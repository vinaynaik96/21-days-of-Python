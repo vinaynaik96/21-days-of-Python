{
  "nbformat": 4,
  "nbformat_minor": 0,
  "metadata": {
    "colab": {
      "name": "Python Day 7",
      "provenance": []
    },
    "kernelspec": {
      "name": "python3",
      "display_name": "Python 3"
    }
  },
  "cells": [
    {
      "cell_type": "markdown",
      "source": [
        "<H1> List Operation\n",
        "\n",
        "\n",
        "1.   Insert\n",
        "\n",
        "\n",
        "> We can use insert() method to insert a single item at a specified index in a list. Note that other items are shifted to the right. The insert() methods takes two arguments:index and an item to insert."
      ],
      "metadata": {
        "id": "IS9zKTU1Ru0a"
      }
    },
    {
      "cell_type": "code",
      "metadata": {
        "id": "C2l8fJrBrFss"
      },
      "source": [
        "#1 list =[]\n",
        "list=[\"car\",\"bike\",\"cycle\",\"train\",\"motor\"]"
      ],
      "execution_count": 1,
      "outputs": []
    },
    {
      "cell_type": "code",
      "source": [
        "#2\n",
        "list.insert(1,\"superbike\")"
      ],
      "metadata": {
        "id": "254qi396SXIP"
      },
      "execution_count": 2,
      "outputs": []
    },
    {
      "cell_type": "code",
      "source": [
        "#3\n",
        "list"
      ],
      "metadata": {
        "colab": {
          "base_uri": "https://localhost:8080/"
        },
        "id": "IgQxuJ-wS2Pu",
        "outputId": "61716978-e291-42e3-ad9d-50b40bfab934"
      },
      "execution_count": 3,
      "outputs": [
        {
          "output_type": "execute_result",
          "data": {
            "text/plain": [
              "['car', 'superbike', 'bike', 'cycle', 'train', 'motor']"
            ]
          },
          "metadata": {},
          "execution_count": 3
        }
      ]
    },
    {
      "cell_type": "markdown",
      "source": [
        "2. **Removing Items from a List**\n",
        "> The remove method removes a specified item from a list"
      ],
      "metadata": {
        "id": "TDnFClMNTIH-"
      }
    },
    {
      "cell_type": "code",
      "source": [
        "#4\n",
        "list.remove(\"bike\")"
      ],
      "metadata": {
        "id": "qn8JhD1sS3J0"
      },
      "execution_count": 4,
      "outputs": []
    },
    {
      "cell_type": "code",
      "source": [
        "#5\n",
        "list"
      ],
      "metadata": {
        "colab": {
          "base_uri": "https://localhost:8080/"
        },
        "id": "zNTWSd61S-ji",
        "outputId": "97c6014f-e760-485b-fb10-1918845f99cb"
      },
      "execution_count": 5,
      "outputs": [
        {
          "output_type": "execute_result",
          "data": {
            "text/plain": [
              "['car', 'superbike', 'cycle', 'train', 'motor']"
            ]
          },
          "metadata": {},
          "execution_count": 5
        }
      ]
    },
    {
      "cell_type": "markdown",
      "source": [
        "3. **Removing Items Using Pop**\n",
        "> The pop() method removes the specified index, (or the last item"
      ],
      "metadata": {
        "id": "p_DAngwSTblR"
      }
    },
    {
      "cell_type": "code",
      "source": [
        "#6\n",
        "list.pop(1)"
      ],
      "metadata": {
        "colab": {
          "base_uri": "https://localhost:8080/",
          "height": 35
        },
        "id": "-Xc2y_z_S-lz",
        "outputId": "67884804-c521-4762-ef93-12a8d74d8f31"
      },
      "execution_count": 6,
      "outputs": [
        {
          "output_type": "execute_result",
          "data": {
            "application/vnd.google.colaboratory.intrinsic+json": {
              "type": "string"
            },
            "text/plain": [
              "'superbike'"
            ]
          },
          "metadata": {},
          "execution_count": 6
        }
      ]
    },
    {
      "cell_type": "code",
      "source": [
        "#7\n",
        "list"
      ],
      "metadata": {
        "colab": {
          "base_uri": "https://localhost:8080/"
        },
        "id": "WNLGvjZGS-pL",
        "outputId": "bfd0737a-86d6-4dc3-d3ac-66815c925fa5"
      },
      "execution_count": 7,
      "outputs": [
        {
          "output_type": "execute_result",
          "data": {
            "text/plain": [
              "['car', 'cycle', 'train', 'motor']"
            ]
          },
          "metadata": {},
          "execution_count": 7
        }
      ]
    },
    {
      "cell_type": "markdown",
      "source": [
        "4. **Delete the list**"
      ],
      "metadata": {
        "id": "rXm7vikkT1pE"
      }
    },
    {
      "cell_type": "code",
      "source": [
        "#8\n",
        "list4=[1,2,3,4,5,6]\n",
        "del list4[3]"
      ],
      "metadata": {
        "id": "jo2PsZ0US-uy"
      },
      "execution_count": 8,
      "outputs": []
    },
    {
      "cell_type": "code",
      "source": [
        "#9\n",
        "list4"
      ],
      "metadata": {
        "colab": {
          "base_uri": "https://localhost:8080/"
        },
        "id": "0hZbUDy5T6_j",
        "outputId": "ed5bdbbc-9f31-4474-ff63-4a1d2e870ce4"
      },
      "execution_count": 9,
      "outputs": [
        {
          "output_type": "execute_result",
          "data": {
            "text/plain": [
              "[1, 2, 3, 5, 6]"
            ]
          },
          "metadata": {},
          "execution_count": 9
        }
      ]
    },
    {
      "cell_type": "code",
      "source": [
        "#10\n",
        "list4.clear()"
      ],
      "metadata": {
        "id": "2-vkzw5HT7_0"
      },
      "execution_count": 10,
      "outputs": []
    },
    {
      "cell_type": "code",
      "source": [
        "#11\n",
        "list4"
      ],
      "metadata": {
        "colab": {
          "base_uri": "https://localhost:8080/"
        },
        "id": "5BX5wFkTUL_m",
        "outputId": "f64e6f0b-94f6-4514-a538-342319e220b9"
      },
      "execution_count": 11,
      "outputs": [
        {
          "output_type": "execute_result",
          "data": {
            "text/plain": [
              "[]"
            ]
          },
          "metadata": {},
          "execution_count": 11
        }
      ]
    },
    {
      "cell_type": "markdown",
      "source": [
        "5. **Adding 2 lists**"
      ],
      "metadata": {
        "id": "m6_IwddTUbly"
      }
    },
    {
      "cell_type": "code",
      "source": [
        "#12\n",
        "list1=[\"item1\",\"item2\",\"item3\",\"item4\"]\n",
        "list2=[\"item4\",\"item5\",\"item6\",\"item7\"]"
      ],
      "metadata": {
        "id": "dK4b5jxHUMzS"
      },
      "execution_count": 12,
      "outputs": []
    },
    {
      "cell_type": "code",
      "source": [
        "#13 using + add 2 element\n",
        "list3=list1+list2"
      ],
      "metadata": {
        "id": "Cpi0vhO9Uk8j"
      },
      "execution_count": 13,
      "outputs": []
    },
    {
      "cell_type": "code",
      "source": [
        "#14\n",
        "list3"
      ],
      "metadata": {
        "colab": {
          "base_uri": "https://localhost:8080/"
        },
        "id": "H_3GfAKgUmyz",
        "outputId": "a751923f-3285-4cb8-d0dd-b7c16795b4d7"
      },
      "execution_count": 14,
      "outputs": [
        {
          "output_type": "execute_result",
          "data": {
            "text/plain": [
              "['item1', 'item2', 'item3', 'item4', 'item4', 'item5', 'item6', 'item7']"
            ]
          },
          "metadata": {},
          "execution_count": 14
        }
      ]
    },
    {
      "cell_type": "markdown",
      "source": [
        "6. Reversing a List\n",
        "> The reverse() method reverses the order of a list."
      ],
      "metadata": {
        "id": "q0lghetkVGar"
      }
    },
    {
      "cell_type": "code",
      "source": [
        "#15\n",
        "list1"
      ],
      "metadata": {
        "colab": {
          "base_uri": "https://localhost:8080/"
        },
        "id": "bQOpZnbfVJTQ",
        "outputId": "a5070761-d554-4cfc-a37a-467545edd5d4"
      },
      "execution_count": 15,
      "outputs": [
        {
          "output_type": "execute_result",
          "data": {
            "text/plain": [
              "['item1', 'item2', 'item3', 'item4']"
            ]
          },
          "metadata": {},
          "execution_count": 15
        }
      ]
    },
    {
      "cell_type": "code",
      "source": [
        "#16\n",
        "list1.reverse()"
      ],
      "metadata": {
        "id": "zQ0boDyMVMMI"
      },
      "execution_count": 16,
      "outputs": []
    },
    {
      "cell_type": "code",
      "source": [
        "#17\n",
        "list1"
      ],
      "metadata": {
        "colab": {
          "base_uri": "https://localhost:8080/"
        },
        "id": "dRj7w34PVPdQ",
        "outputId": "c1d05547-103d-4b34-f970-d80fefe97313"
      },
      "execution_count": 17,
      "outputs": [
        {
          "output_type": "execute_result",
          "data": {
            "text/plain": [
              "['item4', 'item3', 'item2', 'item1']"
            ]
          },
          "metadata": {},
          "execution_count": 17
        }
      ]
    },
    {
      "cell_type": "markdown",
      "source": [
        "7. sorting a list"
      ],
      "metadata": {
        "id": "ktd3MjQoVSh7"
      }
    },
    {
      "cell_type": "code",
      "source": [
        "#18\n",
        "list1"
      ],
      "metadata": {
        "colab": {
          "base_uri": "https://localhost:8080/"
        },
        "id": "7iq1RHJrVYDB",
        "outputId": "b00cc3c2-ff5d-4fae-def7-7b227670cf58"
      },
      "execution_count": 18,
      "outputs": [
        {
          "output_type": "execute_result",
          "data": {
            "text/plain": [
              "['item4', 'item3', 'item2', 'item1']"
            ]
          },
          "metadata": {},
          "execution_count": 18
        }
      ]
    },
    {
      "cell_type": "code",
      "source": [
        "#19\n",
        "list1.sort()"
      ],
      "metadata": {
        "id": "7AXoPApGVZeq"
      },
      "execution_count": 19,
      "outputs": []
    },
    {
      "cell_type": "code",
      "source": [
        "#20\n",
        "list1"
      ],
      "metadata": {
        "colab": {
          "base_uri": "https://localhost:8080/"
        },
        "id": "EbMfCvT9Vcv1",
        "outputId": "eaf42659-e07d-4806-9b04-ed1890faa1ec"
      },
      "execution_count": 20,
      "outputs": [
        {
          "output_type": "execute_result",
          "data": {
            "text/plain": [
              "['item1', 'item2', 'item3', 'item4']"
            ]
          },
          "metadata": {},
          "execution_count": 20
        }
      ]
    }
  ]
}