{
  "nbformat": 4,
  "nbformat_minor": 0,
  "metadata": {
    "colab": {
      "name": "Python Day-3 ",
      "provenance": []
    },
    "kernelspec": {
      "name": "python3",
      "display_name": "Python 3"
    },
    "language_info": {
      "name": "python"
    }
  },
  "cells": [
    {
      "cell_type": "markdown",
      "source": [
        "<h1>Python Operator<h1/>\n",
        "\n",
        "\n",
        "\n",
        "1.   Arthamatic Operation\n",
        "2.   Logical Operators\n",
        "3.   Comparison Operators\n",
        "4.   Boolean Operation"
      ],
      "metadata": {
        "id": "-s5oIHR_mMUL"
      }
    },
    {
      "cell_type": "markdown",
      "source": [
        "1.   Arthamatic Operation\n",
        "\n",
        "> Arithmetic operators are used to perform mathematical operations like addition, subtraction, multiplication, etc.\n",
        "\n",
        "1.   Addition(+): a + b\n",
        "2.   Subtraction(-): a - b\n",
        "3.   Multiplication(*): a * b\n",
        "4.   Division(/): a / b\n",
        "5.   Modulus(%): a % b\n",
        "6.   Floor division(//): a // b\n",
        "7.   Exponentiation(**): a ** b"
      ],
      "metadata": {
        "id": "znPf8waurJmo"
      }
    },
    {
      "cell_type": "code",
      "source": [
        "a = 6 \n",
        "b = 3 \n",
        "\n",
        "total = a + b\n",
        "diff = a - b\n",
        "product = a * b\n",
        "division = a / b\n",
        "remainder = a % b\n",
        "floor_division = a // b\n",
        "exponential = a ** b"
      ],
      "metadata": {
        "id": "_DIadNZ0-dz6"
      },
      "execution_count": 1,
      "outputs": []
    },
    {
      "cell_type": "code",
      "source": [
        "print('a + b = ', total)"
      ],
      "metadata": {
        "colab": {
          "base_uri": "https://localhost:8080/"
        },
        "id": "YQoTeuT6JdOv",
        "outputId": "51f2afa5-76b6-49ad-fd53-892056f6ae79"
      },
      "execution_count": 2,
      "outputs": [
        {
          "output_type": "stream",
          "name": "stdout",
          "text": [
            "a + b =  9\n"
          ]
        }
      ]
    },
    {
      "cell_type": "code",
      "source": [
        "print('a - b = ', diff)"
      ],
      "metadata": {
        "colab": {
          "base_uri": "https://localhost:8080/"
        },
        "id": "HSvWvKuNJdQf",
        "outputId": "e40f1850-322c-4e86-8cda-c6bea371e2c4"
      },
      "execution_count": 3,
      "outputs": [
        {
          "output_type": "stream",
          "name": "stdout",
          "text": [
            "a - b =  3\n"
          ]
        }
      ]
    },
    {
      "cell_type": "code",
      "source": [
        "print('a * b = ', product)"
      ],
      "metadata": {
        "colab": {
          "base_uri": "https://localhost:8080/"
        },
        "id": "4GJKBwt3JdVE",
        "outputId": "c843745a-3f05-469d-e9aa-52621f0fc5f7"
      },
      "execution_count": 4,
      "outputs": [
        {
          "output_type": "stream",
          "name": "stdout",
          "text": [
            "a * b =  18\n"
          ]
        }
      ]
    },
    {
      "cell_type": "code",
      "source": [
        "print('a / b = ', division)"
      ],
      "metadata": {
        "colab": {
          "base_uri": "https://localhost:8080/"
        },
        "id": "idPxTXBhJdWn",
        "outputId": "d1b934f4-526a-4a81-d155-975bd8c9b17a"
      },
      "execution_count": 5,
      "outputs": [
        {
          "output_type": "stream",
          "name": "stdout",
          "text": [
            "a / b =  2.0\n"
          ]
        }
      ]
    },
    {
      "cell_type": "code",
      "source": [
        "print('a % b = ', remainder)"
      ],
      "metadata": {
        "colab": {
          "base_uri": "https://localhost:8080/"
        },
        "id": "9j3tELbjJdbQ",
        "outputId": "6825eec6-7748-49d2-c0c2-2bc36f7b67e7"
      },
      "execution_count": 6,
      "outputs": [
        {
          "output_type": "stream",
          "name": "stdout",
          "text": [
            "a % b =  0\n"
          ]
        }
      ]
    },
    {
      "cell_type": "code",
      "source": [
        "print('a // b = ', floor_division)"
      ],
      "metadata": {
        "colab": {
          "base_uri": "https://localhost:8080/"
        },
        "id": "VrJ8mS5RJdfw",
        "outputId": "575d6aec-845a-4229-ba15-8811d1641312"
      },
      "execution_count": 7,
      "outputs": [
        {
          "output_type": "stream",
          "name": "stdout",
          "text": [
            "a // b =  2\n"
          ]
        }
      ]
    },
    {
      "cell_type": "code",
      "source": [
        "print('a ** b = ', exponential)"
      ],
      "metadata": {
        "colab": {
          "base_uri": "https://localhost:8080/"
        },
        "id": "op9N7yYsJuMF",
        "outputId": "7daf64d2-8f11-43bd-c689-d97d92811f8b"
      },
      "execution_count": 8,
      "outputs": [
        {
          "output_type": "stream",
          "name": "stdout",
          "text": [
            "a ** b =  216\n"
          ]
        }
      ]
    },
    {
      "cell_type": "markdown",
      "source": [
        "2.   Logical Operation\n",
        ">   Logical operators are used to perform Logical AND & OR operation."
      ],
      "metadata": {
        "id": "KVGP6bzC9o1j"
      }
    },
    {
      "cell_type": "code",
      "source": [
        "print(5 > 3 and 5 < 10)"
      ],
      "metadata": {
        "colab": {
          "base_uri": "https://localhost:8080/"
        },
        "id": "d_5plgoWHJM3",
        "outputId": "79bef28b-5817-468a-a9a7-c947bb328a19"
      },
      "execution_count": 9,
      "outputs": [
        {
          "output_type": "stream",
          "name": "stdout",
          "text": [
            "True\n"
          ]
        }
      ]
    },
    {
      "cell_type": "code",
      "source": [
        "print(5 > 3 or 5 < 4)"
      ],
      "metadata": {
        "colab": {
          "base_uri": "https://localhost:8080/"
        },
        "id": "wkywZpd7HLtk",
        "outputId": "fd80058b-fb7c-473f-e658-baad068b053d"
      },
      "execution_count": 10,
      "outputs": [
        {
          "output_type": "stream",
          "name": "stdout",
          "text": [
            "True\n"
          ]
        }
      ]
    },
    {
      "cell_type": "markdown",
      "source": [
        "3.   Comparison Operators\n",
        "\n",
        "\n",
        "\n",
        "> Comparison operators are used to compare values. It returns either True or False according to the condition.\n",
        "\n",
        "\n",
        "\n"
      ],
      "metadata": {
        "id": "VQQAPb6x9o7u"
      }
    },
    {
      "cell_type": "code",
      "source": [
        "print(3 > 2)     # True, because 3 is greater than 2"
      ],
      "metadata": {
        "colab": {
          "base_uri": "https://localhost:8080/"
        },
        "id": "3nIJsm8V-674",
        "outputId": "61089d7c-6197-4eac-9129-a47bec0025f5"
      },
      "execution_count": 11,
      "outputs": [
        {
          "output_type": "stream",
          "name": "stdout",
          "text": [
            "True\n"
          ]
        }
      ]
    },
    {
      "cell_type": "code",
      "source": [
        "print(3 >= 2)    # True, because 3 is greater than 2"
      ],
      "metadata": {
        "colab": {
          "base_uri": "https://localhost:8080/"
        },
        "id": "sJUEDh_6Iy9k",
        "outputId": "1a58cfa9-98c5-4f81-ede2-2b67e4a77937"
      },
      "execution_count": 12,
      "outputs": [
        {
          "output_type": "stream",
          "name": "stdout",
          "text": [
            "True\n"
          ]
        }
      ]
    },
    {
      "cell_type": "code",
      "source": [
        "print(3 < 2)     # False,  because 3 is greater than 2"
      ],
      "metadata": {
        "colab": {
          "base_uri": "https://localhost:8080/"
        },
        "id": "kmAMyIX-Iy-_",
        "outputId": "40274518-ba7a-46eb-d470-78a96b110b6e"
      },
      "execution_count": 13,
      "outputs": [
        {
          "output_type": "stream",
          "name": "stdout",
          "text": [
            "False\n"
          ]
        }
      ]
    },
    {
      "cell_type": "code",
      "source": [
        "print(2 < 3)     # True, because 2 is less than 3"
      ],
      "metadata": {
        "colab": {
          "base_uri": "https://localhost:8080/"
        },
        "id": "Do5bStBuIzDQ",
        "outputId": "b34ec5de-2a77-42bc-f8ac-f4a5140d49ad"
      },
      "execution_count": 14,
      "outputs": [
        {
          "output_type": "stream",
          "name": "stdout",
          "text": [
            "True\n"
          ]
        }
      ]
    },
    {
      "cell_type": "code",
      "source": [
        "print(2 <= 3)    # True, because 2 is less than 3"
      ],
      "metadata": {
        "colab": {
          "base_uri": "https://localhost:8080/"
        },
        "id": "J4gNOq10IzGO",
        "outputId": "c99bb9a6-47f4-4a26-ddbc-3b0737fd793f"
      },
      "execution_count": 15,
      "outputs": [
        {
          "output_type": "stream",
          "name": "stdout",
          "text": [
            "True\n"
          ]
        }
      ]
    },
    {
      "cell_type": "code",
      "source": [
        "print(3 == 2)    # False, because 3 is not equal to 2"
      ],
      "metadata": {
        "colab": {
          "base_uri": "https://localhost:8080/"
        },
        "id": "k9wt-SaAI8HJ",
        "outputId": "472bce16-6b62-42e4-eb1c-4a6486667c66"
      },
      "execution_count": 16,
      "outputs": [
        {
          "output_type": "stream",
          "name": "stdout",
          "text": [
            "False\n"
          ]
        }
      ]
    },
    {
      "cell_type": "code",
      "source": [
        "print(3 != 2)    # True, because 3 is not equal to 2"
      ],
      "metadata": {
        "colab": {
          "base_uri": "https://localhost:8080/"
        },
        "id": "ZL3NLZJ1I8Iu",
        "outputId": "d3918f90-40a6-4b37-8cb5-d1375e1917d0"
      },
      "execution_count": 17,
      "outputs": [
        {
          "output_type": "stream",
          "name": "stdout",
          "text": [
            "True\n"
          ]
        }
      ]
    },
    {
      "cell_type": "code",
      "source": [
        "print(5 == 3)"
      ],
      "metadata": {
        "colab": {
          "base_uri": "https://localhost:8080/"
        },
        "id": "DvpKw0UJDjDw",
        "outputId": "5fcdc4a5-4fb8-4fa1-b67b-3b94f710e306"
      },
      "execution_count": 18,
      "outputs": [
        {
          "output_type": "stream",
          "name": "stdout",
          "text": [
            "False\n"
          ]
        }
      ]
    },
    {
      "cell_type": "code",
      "source": [
        "print(5 != 3)"
      ],
      "metadata": {
        "colab": {
          "base_uri": "https://localhost:8080/"
        },
        "id": "4I6EDQn0Dt9I",
        "outputId": "85cceb4c-077e-40f4-9b7d-ef4f3f3287a6"
      },
      "execution_count": 19,
      "outputs": [
        {
          "output_type": "stream",
          "name": "stdout",
          "text": [
            "True\n"
          ]
        }
      ]
    },
    {
      "cell_type": "code",
      "source": [
        "print(5 > 3)"
      ],
      "metadata": {
        "colab": {
          "base_uri": "https://localhost:8080/"
        },
        "id": "cv_YjiwPDt-l",
        "outputId": "f4857fba-a8a7-4746-e2a8-269a9d641b10"
      },
      "execution_count": 20,
      "outputs": [
        {
          "output_type": "stream",
          "name": "stdout",
          "text": [
            "True\n"
          ]
        }
      ]
    },
    {
      "cell_type": "code",
      "source": [
        "print(5 < 3)"
      ],
      "metadata": {
        "colab": {
          "base_uri": "https://localhost:8080/"
        },
        "id": "iNr5SFbZDuCx",
        "outputId": "0aa7ef26-370d-4a8a-d7f6-5e93fed131b5"
      },
      "execution_count": 21,
      "outputs": [
        {
          "output_type": "stream",
          "name": "stdout",
          "text": [
            "False\n"
          ]
        }
      ]
    },
    {
      "cell_type": "code",
      "source": [
        "print(5 >= 3)"
      ],
      "metadata": {
        "colab": {
          "base_uri": "https://localhost:8080/"
        },
        "id": "HKiJXYWLDuEV",
        "outputId": "f480e054-4d1e-445b-d1bb-c9947babfe92"
      },
      "execution_count": 22,
      "outputs": [
        {
          "output_type": "stream",
          "name": "stdout",
          "text": [
            "True\n"
          ]
        }
      ]
    },
    {
      "cell_type": "code",
      "source": [
        "print(5 <= 3)"
      ],
      "metadata": {
        "colab": {
          "base_uri": "https://localhost:8080/"
        },
        "id": "BNZA1OGgDuIr",
        "outputId": "90f9242f-c8d5-4de8-db23-7b9a28013006"
      },
      "execution_count": 23,
      "outputs": [
        {
          "output_type": "stream",
          "name": "stdout",
          "text": [
            "False\n"
          ]
        }
      ]
    },
    {
      "cell_type": "markdown",
      "source": [
        "4.   Boolean Operation\n",
        "> In programming you often need to know if an expression is True or False."
      ],
      "metadata": {
        "id": "Mtt7fDLv9o9G"
      }
    },
    {
      "cell_type": "code",
      "source": [
        "print('True == True   : ', True == True)"
      ],
      "metadata": {
        "colab": {
          "base_uri": "https://localhost:8080/"
        },
        "id": "E4wemjDsGzBB",
        "outputId": "04262916-a874-4612-96b7-a473c0d95fdd"
      },
      "execution_count": 24,
      "outputs": [
        {
          "output_type": "stream",
          "name": "stdout",
          "text": [
            "True == True   :  True\n"
          ]
        }
      ]
    },
    {
      "cell_type": "code",
      "source": [
        "print('True == False  : ', True == False)"
      ],
      "metadata": {
        "colab": {
          "base_uri": "https://localhost:8080/"
        },
        "id": "nnn_fCJzJ1Q5",
        "outputId": "337b4a50-c9a4-42f3-a55e-d15528b2f695"
      },
      "execution_count": 25,
      "outputs": [
        {
          "output_type": "stream",
          "name": "stdout",
          "text": [
            "True == False  :  False\n"
          ]
        }
      ]
    },
    {
      "cell_type": "code",
      "source": [
        "print('False == False : ', False == False)"
      ],
      "metadata": {
        "colab": {
          "base_uri": "https://localhost:8080/"
        },
        "id": "vZHV2tQCJ1T5",
        "outputId": "ee0dc6f6-4181-45c4-8b33-50b110c57f0e"
      },
      "execution_count": 26,
      "outputs": [
        {
          "output_type": "stream",
          "name": "stdout",
          "text": [
            "False == False :  True\n"
          ]
        }
      ]
    }
  ]
}