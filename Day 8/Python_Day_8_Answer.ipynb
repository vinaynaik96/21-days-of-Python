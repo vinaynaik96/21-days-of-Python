{
  "nbformat": 4,
  "nbformat_minor": 0,
  "metadata": {
    "colab": {
      "name": "Python Day 8 Answer",
      "provenance": []
    },
    "kernelspec": {
      "name": "python3",
      "display_name": "Python 3"
    },
    "language_info": {
      "name": "python"
    }
  },
  "cells": [
    {
      "cell_type": "markdown",
      "source": [
        "### 1: Reverse a list in Python\n",
        "\n",
        "   Input :\n",
        "\n",
        "          list1 = [50,60,70,80,90]\n",
        "\n",
        "   Output : \n",
        "\n",
        "          list1 = [90,80,70,60,50]\n",
        "\n"
      ],
      "metadata": {
        "id": "J-dOPFeJ5Y05"
      }
    },
    {
      "cell_type": "code",
      "source": [
        "list1 = [50,60,70,80,90]\n",
        "list1.reverse()\n",
        "list1"
      ],
      "metadata": {
        "colab": {
          "base_uri": "https://localhost:8080/"
        },
        "id": "0QcA9g_OObiU",
        "outputId": "0ee330d3-bd80-439f-c5a0-1bcd752a821a"
      },
      "execution_count": 20,
      "outputs": [
        {
          "output_type": "execute_result",
          "data": {
            "text/plain": [
              "[90, 80, 70, 60, 50]"
            ]
          },
          "metadata": {},
          "execution_count": 20
        }
      ]
    },
    {
      "cell_type": "markdown",
      "source": [
        "### 2: Concatenate two lists \n",
        "\n",
        "Input : \n",
        "\n",
        "       list1 =[\"hello\",\"My\",\"name\"]\n",
        "       list2 =[\"python\",\"bot\"] \n",
        "\n",
        "Output :\n",
        "\n",
        "       list3=[\"hello\",\"My\",\"name\",\"python\",\"bot\"]"
      ],
      "metadata": {
        "id": "84cwi6Pv6Vhk"
      }
    },
    {
      "cell_type": "code",
      "source": [
        "list1 =[\"hello\",\"My\",\"name\"]\n",
        "list2 =[\"python\",\"bot\"]\n",
        "list3=list1+list2\n",
        "list3"
      ],
      "metadata": {
        "colab": {
          "base_uri": "https://localhost:8080/"
        },
        "id": "87NWlgfwOk16",
        "outputId": "07902332-7de4-4db7-b8be-0290bdf8177d"
      },
      "execution_count": 22,
      "outputs": [
        {
          "output_type": "execute_result",
          "data": {
            "text/plain": [
              "['hello', 'My', 'name', 'python', 'bot']"
            ]
          },
          "metadata": {},
          "execution_count": 22
        }
      ]
    },
    {
      "cell_type": "markdown",
      "source": [
        "### 3: Remove empty strings from the list of strings\n",
        "\n",
        "Input : \n",
        "\n",
        "       list1 = [\"Hi\", \"\", \"Hello\", \"How\", \"\", \"Good\"] \n",
        "\n",
        "Output :\n",
        "\n",
        "       list1 = [\"Hi\", \"Hello\", \"How\", \"Good\"] "
      ],
      "metadata": {
        "id": "Ai82Z3tf6j9x"
      }
    },
    {
      "cell_type": "code",
      "source": [
        "   list1 = [\"Hi\", \"\", \"Hello\", \"How\", \"\", \"Good\"] \n",
        "   list1.remove(\"\")\n",
        "   list1.remove(\"\")\n",
        "   list1"
      ],
      "metadata": {
        "colab": {
          "base_uri": "https://localhost:8080/"
        },
        "id": "mDRYX04LOvZi",
        "outputId": "5fa3240c-2a63-4f93-d33b-d09e01a56ee7"
      },
      "execution_count": 29,
      "outputs": [
        {
          "output_type": "execute_result",
          "data": {
            "text/plain": [
              "['Hi', 'Hello', 'How', 'Good']"
            ]
          },
          "metadata": {},
          "execution_count": 29
        }
      ]
    },
    {
      "cell_type": "markdown",
      "source": [
        "### 4: Access the substring from the list of strings\n",
        "\n",
        "Input : \n",
        "\n",
        "       list1 = [\"a\", \"b\", [\"c\", [\"d\", \"e\", [\"f\", \"g\"], \"k\"], \"l\"], \"m\", \"n\"]\n",
        "Output :\n",
        "\n",
        "       list1 = [\"f\", \"g\"] "
      ],
      "metadata": {
        "id": "_dUXcZFQ6j_n"
      }
    },
    {
      "cell_type": "code",
      "source": [
        "   list1 = [\"a\", \"b\", [\"c\", [\"d\", \"e\", [\"f\", \"g\"], \"k\"], \"l\"], \"m\", \"n\"]\n",
        "   list1[2][1][2]"
      ],
      "metadata": {
        "colab": {
          "base_uri": "https://localhost:8080/"
        },
        "id": "Tk_liIBQPLaP",
        "outputId": "47748b06-fb75-44fa-95ad-bc5c672d9193"
      },
      "execution_count": 33,
      "outputs": [
        {
          "output_type": "execute_result",
          "data": {
            "text/plain": [
              "['f', 'g']"
            ]
          },
          "metadata": {},
          "execution_count": 33
        }
      ]
    },
    {
      "cell_type": "markdown",
      "source": [
        "### 5: Add \"D\" in below input string\n",
        "Input : \n",
        "\n",
        "       list1 = [\"A\",\"B\",\"C\",\"E\",\"F\"]\n",
        "Output :\n",
        "\n",
        "       list1 = [\"A\",\"B\",\"C\",\"D\",\"E\",\"F\"] "
      ],
      "metadata": {
        "id": "DPERtCUN6kZc"
      }
    },
    {
      "cell_type": "code",
      "source": [
        "list1 = [\"A\",\"B\",\"C\",\"E\",\"F\"]\n",
        "list1.insert(3,\"D\")\n",
        "list1"
      ],
      "metadata": {
        "colab": {
          "base_uri": "https://localhost:8080/"
        },
        "id": "lekSSI73PTe9",
        "outputId": "ac9259fc-cf91-40f7-9044-3eba095042f5"
      },
      "execution_count": 35,
      "outputs": [
        {
          "output_type": "execute_result",
          "data": {
            "text/plain": [
              "['A', 'B', 'C', 'D', 'E', 'F']"
            ]
          },
          "metadata": {},
          "execution_count": 35
        }
      ]
    },
    {
      "cell_type": "markdown",
      "source": [
        "### 6: Write a program to get the maximum number from a list.\n",
        "Input : \n",
        "\n",
        "       list1 = [45,67,89,34,65,90]\n",
        "Output :\n",
        "\n",
        "       90 "
      ],
      "metadata": {
        "id": "U0jGaL6VFeRk"
      }
    },
    {
      "cell_type": "code",
      "source": [
        " list1 = [45,67,89,34,65,90]\n",
        "max(list1)"
      ],
      "metadata": {
        "colab": {
          "base_uri": "https://localhost:8080/"
        },
        "id": "CIlBU5vpPdaC",
        "outputId": "398fac9a-169d-41a1-979a-983a5adda31d"
      },
      "execution_count": 36,
      "outputs": [
        {
          "output_type": "execute_result",
          "data": {
            "text/plain": [
              "90"
            ]
          },
          "metadata": {},
          "execution_count": 36
        }
      ]
    },
    {
      "cell_type": "markdown",
      "source": [
        "### 7: Write a program to get the Average number from a list.\n",
        "Input : \n",
        "\n",
        "       list1 = [45,67,89,34,65,90]\n",
        "Output :\n",
        "\n",
        "       65"
      ],
      "metadata": {
        "id": "bFig5hWEGcyY"
      }
    },
    {
      "cell_type": "code",
      "source": [
        "sum(list1)/len(list1)"
      ],
      "metadata": {
        "colab": {
          "base_uri": "https://localhost:8080/"
        },
        "id": "o9DADNamPjt4",
        "outputId": "9f685295-7d60-4018-ea56-946dab788e1c"
      },
      "execution_count": 39,
      "outputs": [
        {
          "output_type": "execute_result",
          "data": {
            "text/plain": [
              "65.0"
            ]
          },
          "metadata": {},
          "execution_count": 39
        }
      ]
    },
    {
      "cell_type": "markdown",
      "source": [
        "### 8: Write a program to add 'you'in a list.\n",
        "Input : \n",
        "\n",
        "       list1 = ['hello', 'how', 'are']\n",
        "\n",
        "Output :\n",
        "\n",
        "       list1 = ['hello', 'how', 'are','you']"
      ],
      "metadata": {
        "id": "DUkSHS1UGc7x"
      }
    },
    {
      "cell_type": "code",
      "source": [
        "list1 = ['hello', 'how', 'are']\n",
        "list1.append('you')\n",
        "list1"
      ],
      "metadata": {
        "colab": {
          "base_uri": "https://localhost:8080/"
        },
        "id": "bkqS8CojQLaz",
        "outputId": "eaf44900-1292-4d9f-c242-e7a014742122"
      },
      "execution_count": 40,
      "outputs": [
        {
          "output_type": "execute_result",
          "data": {
            "text/plain": [
              "['hello', 'how', 'are', 'you']"
            ]
          },
          "metadata": {},
          "execution_count": 40
        }
      ]
    },
    {
      "cell_type": "markdown",
      "source": [
        "### 9: Write a program to replace 'how' with 'hi' from a list.\n",
        "Input : \n",
        "\n",
        "       list1 = ['hello', 'how', 'are']\n",
        "\n",
        "Output :\n",
        "\n",
        "       list1 = ['hello', 'hi', 'are']"
      ],
      "metadata": {
        "id": "z0rlTTKzGzmK"
      }
    },
    {
      "cell_type": "code",
      "source": [
        "list1 = ['hello', 'how', 'are']\n",
        "list1[1]='hi'\n",
        "list1"
      ],
      "metadata": {
        "colab": {
          "base_uri": "https://localhost:8080/"
        },
        "id": "0e_TW84zQSy8",
        "outputId": "eca7f627-3078-4d63-eec9-90bf3e6d256a"
      },
      "execution_count": 47,
      "outputs": [
        {
          "output_type": "execute_result",
          "data": {
            "text/plain": [
              "['hello', 'hi', 'are']"
            ]
          },
          "metadata": {},
          "execution_count": 47
        }
      ]
    },
    {
      "cell_type": "markdown",
      "source": [
        "### 10: Write a program to add list with a list.\n",
        "Input : \n",
        "\n",
        "       list1 = ['hello', 'how']\n",
        "\n",
        "Output :\n",
        "\n",
        "       list1 = ['hello', 'hi', [1,2]]"
      ],
      "metadata": {
        "id": "0N4uiVpsLfHr"
      }
    },
    {
      "cell_type": "code",
      "source": [
        " list1 = ['hello', 'how']\n",
        " list1.append([1,2])\n",
        " list1"
      ],
      "metadata": {
        "colab": {
          "base_uri": "https://localhost:8080/"
        },
        "id": "KCf67VHpRTbe",
        "outputId": "0636731a-4fc0-418f-ec5d-05526f3887d9"
      },
      "execution_count": 49,
      "outputs": [
        {
          "output_type": "execute_result",
          "data": {
            "text/plain": [
              "['hello', 'how', [1, 2]]"
            ]
          },
          "metadata": {},
          "execution_count": 49
        }
      ]
    },
    {
      "cell_type": "markdown",
      "source": [
        "### 11: Write a program to check good is present in current list.\n",
        "Input : \n",
        "\n",
        "       list1 = ['hello', 'how','are','you']\n",
        "\n",
        "Output :\n",
        "\n",
        "       False"
      ],
      "metadata": {
        "id": "cIf_z3PBNDnk"
      }
    },
    {
      "cell_type": "code",
      "source": [
        "  list1 = ['hello', 'how','are','you']\n",
        "  print('good' in list1)"
      ],
      "metadata": {
        "colab": {
          "base_uri": "https://localhost:8080/"
        },
        "id": "kGVpM08cRd48",
        "outputId": "5b6c64c8-0bd9-4240-9f3f-fb9f597c355b"
      },
      "execution_count": 50,
      "outputs": [
        {
          "output_type": "stream",
          "name": "stdout",
          "text": [
            "False\n"
          ]
        }
      ]
    }
  ]
}