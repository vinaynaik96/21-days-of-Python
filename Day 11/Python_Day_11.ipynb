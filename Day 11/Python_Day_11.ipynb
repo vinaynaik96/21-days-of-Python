{
  "nbformat": 4,
  "nbformat_minor": 0,
  "metadata": {
    "colab": {
      "name": "Python Day 11",
      "provenance": []
    },
    "kernelspec": {
      "name": "python3",
      "display_name": "Python 3"
    },
    "language_info": {
      "name": "python"
    }
  },
  "cells": [
    {
      "cell_type": "markdown",
      "source": [
        "# Set - Advance Operation"
      ],
      "metadata": {
        "id": "vKDr8Jd8Jnoh"
      }
    },
    {
      "cell_type": "code",
      "execution_count": 1,
      "metadata": {
        "id": "wWy8HIg1GKDO"
      },
      "outputs": [],
      "source": [
        "#1 Set Union Operation\n",
        "st1 = {'A', 'B', 'C', 'D'}\n",
        "st2 = {'E', 'F', 'G', 'H'}\n",
        "st3 = st1.union(st2)"
      ]
    },
    {
      "cell_type": "code",
      "source": [
        "#2\n",
        "st3"
      ],
      "metadata": {
        "colab": {
          "base_uri": "https://localhost:8080/"
        },
        "id": "ZjqQX5zAGRUj",
        "outputId": "87059caf-489e-4aba-a045-bb2482433595"
      },
      "execution_count": 2,
      "outputs": [
        {
          "output_type": "execute_result",
          "data": {
            "text/plain": [
              "{'A', 'B', 'C', 'D', 'E', 'F', 'G', 'H'}"
            ]
          },
          "metadata": {},
          "execution_count": 2
        }
      ]
    },
    {
      "cell_type": "code",
      "source": [
        "#3 Set Update Operation\n",
        "st1 = {'A', 'B', 'C', 'D'}\n",
        "st2 = {'E', 'F', 'G', 'H'}\n",
        "st1.update(st2)"
      ],
      "metadata": {
        "id": "9DY9txW_GTgJ"
      },
      "execution_count": 3,
      "outputs": []
    },
    {
      "cell_type": "code",
      "source": [
        "#4\n",
        "st1"
      ],
      "metadata": {
        "colab": {
          "base_uri": "https://localhost:8080/"
        },
        "id": "7rsUJuJLGYmy",
        "outputId": "990b0bbc-0724-4ae7-9ecf-cc83a003c2a5"
      },
      "execution_count": 4,
      "outputs": [
        {
          "output_type": "execute_result",
          "data": {
            "text/plain": [
              "{'A', 'B', 'C', 'D', 'E', 'F', 'G', 'H'}"
            ]
          },
          "metadata": {},
          "execution_count": 4
        }
      ]
    },
    {
      "cell_type": "code",
      "source": [
        "#5 Set Intersection\n",
        "st1 = {'A', 'B', 'C', 'D'}\n",
        "st2 = {'C', 'B'}\n",
        "st3=st1.intersection(st2)"
      ],
      "metadata": {
        "id": "hT2D13SjGaUr"
      },
      "execution_count": 5,
      "outputs": []
    },
    {
      "cell_type": "code",
      "source": [
        "#6\n",
        "st3"
      ],
      "metadata": {
        "colab": {
          "base_uri": "https://localhost:8080/"
        },
        "id": "hooVU4dxGcM9",
        "outputId": "9bfccaa3-062f-411b-f71c-744a8e3573c6"
      },
      "execution_count": 6,
      "outputs": [
        {
          "output_type": "execute_result",
          "data": {
            "text/plain": [
              "{'B', 'C'}"
            ]
          },
          "metadata": {},
          "execution_count": 6
        }
      ]
    },
    {
      "cell_type": "code",
      "source": [
        "#7 Set Subset & Superset\n",
        "st1 = {'A', 'B', 'C', 'D'}\n",
        "st2 = {'B', 'C'}"
      ],
      "metadata": {
        "id": "Eh2x66IZGd65"
      },
      "execution_count": 7,
      "outputs": []
    },
    {
      "cell_type": "code",
      "source": [
        "#8\n",
        "st2.issubset(st1)"
      ],
      "metadata": {
        "colab": {
          "base_uri": "https://localhost:8080/"
        },
        "id": "ueyVJfCiKQUw",
        "outputId": "b64afdb4-ed21-4f0a-eddb-e648764edbbf"
      },
      "execution_count": 8,
      "outputs": [
        {
          "output_type": "execute_result",
          "data": {
            "text/plain": [
              "True"
            ]
          },
          "metadata": {},
          "execution_count": 8
        }
      ]
    },
    {
      "cell_type": "code",
      "source": [
        "#9\n",
        "st1.issuperset(st2)"
      ],
      "metadata": {
        "colab": {
          "base_uri": "https://localhost:8080/"
        },
        "id": "TEq2tIRNKQXu",
        "outputId": "d24a744f-5385-44f0-e624-cc4f6c87de5d"
      },
      "execution_count": 9,
      "outputs": [
        {
          "output_type": "execute_result",
          "data": {
            "text/plain": [
              "True"
            ]
          },
          "metadata": {},
          "execution_count": 9
        }
      ]
    },
    {
      "cell_type": "code",
      "source": [
        "#10 Set Difference\n",
        "st1 = {'A', 'B', 'C', 'D'}\n",
        "st2 = {'B', 'C'}"
      ],
      "metadata": {
        "id": "l9P2WCJHGf8q"
      },
      "execution_count": 10,
      "outputs": []
    },
    {
      "cell_type": "code",
      "source": [
        "#11\n",
        "st2.difference(st1) "
      ],
      "metadata": {
        "colab": {
          "base_uri": "https://localhost:8080/"
        },
        "id": "bp4-LN4xKf0A",
        "outputId": "8fd27d4b-46bc-4614-a17b-6eb4443de427"
      },
      "execution_count": 11,
      "outputs": [
        {
          "output_type": "execute_result",
          "data": {
            "text/plain": [
              "set()"
            ]
          },
          "metadata": {},
          "execution_count": 11
        }
      ]
    },
    {
      "cell_type": "code",
      "source": [
        "#12\n",
        "st1.difference(st2) "
      ],
      "metadata": {
        "colab": {
          "base_uri": "https://localhost:8080/"
        },
        "id": "_1Rp8VBXKf2_",
        "outputId": "671f6a72-9369-4dde-e220-a8a42431c371"
      },
      "execution_count": 12,
      "outputs": [
        {
          "output_type": "execute_result",
          "data": {
            "text/plain": [
              "{'A', 'D'}"
            ]
          },
          "metadata": {},
          "execution_count": 12
        }
      ]
    },
    {
      "cell_type": "code",
      "source": [
        "#13 Set Symmetric Difference\n",
        "st1 = {'A', 'B', 'C', 'D'}\n",
        "st2 = {'B', 'C'}"
      ],
      "metadata": {
        "id": "bytzZpM8Ghwa"
      },
      "execution_count": 13,
      "outputs": []
    },
    {
      "cell_type": "code",
      "source": [
        "#14\n",
        "st2.symmetric_difference(st1)"
      ],
      "metadata": {
        "colab": {
          "base_uri": "https://localhost:8080/"
        },
        "id": "1Z7BS_MjKuIJ",
        "outputId": "925b2408-95ff-40ca-99f4-b978e459551b"
      },
      "execution_count": 14,
      "outputs": [
        {
          "output_type": "execute_result",
          "data": {
            "text/plain": [
              "{'A', 'D'}"
            ]
          },
          "metadata": {},
          "execution_count": 14
        }
      ]
    },
    {
      "cell_type": "code",
      "source": [
        "#15 Set Disjoint\n",
        "st1 = {'A', 'B', 'C', 'D'}\n",
        "st2 = {'B', 'C'}"
      ],
      "metadata": {
        "id": "mYFoRzDWGjul"
      },
      "execution_count": 15,
      "outputs": []
    },
    {
      "cell_type": "code",
      "source": [
        "#16\n",
        "st2.isdisjoint(st1)"
      ],
      "metadata": {
        "colab": {
          "base_uri": "https://localhost:8080/"
        },
        "id": "4DdJvLBiGlh5",
        "outputId": "a726babe-ed7f-4c25-df5d-5a3baae3d543"
      },
      "execution_count": 16,
      "outputs": [
        {
          "output_type": "execute_result",
          "data": {
            "text/plain": [
              "False"
            ]
          },
          "metadata": {},
          "execution_count": 16
        }
      ]
    }
  ]
}