{
  "nbformat": 4,
  "nbformat_minor": 0,
  "metadata": {
    "colab": {
      "name": "Python Day-1.ipynb",
      "provenance": [],
      "collapsed_sections": [
        "wTVJSiTycSWb",
        "3X18IcQDt3mU"
      ]
    },
    "kernelspec": {
      "name": "python3",
      "display_name": "Python 3"
    },
    "language_info": {
      "name": "python"
    }
  },
  "cells": [
    {
      "cell_type": "markdown",
      "source": [
        "<h1> Welcome to 21 days of Python programming. In this 21 days you will learn everything you need to be a python programmer and the whole concept of programming.</h1>\n"
      ],
      "metadata": {
        "id": "3Tl9vCVcgPV8"
      }
    },
    {
      "cell_type": "markdown",
      "source": [
        "**1.1 Why 21 days**"
      ],
      "metadata": {
        "id": "uPol25QeZJ3W"
      }
    },
    {
      "cell_type": "markdown",
      "source": [
        "It is said that you can build a new habit by doing something for 21 days in a row. This challenge is to help you make coding a habit!"
      ],
      "metadata": {
        "id": "DPzgRxqFdCd0"
      }
    },
    {
      "cell_type": "markdown",
      "source": [
        "**1.2 Introduction To Python**"
      ],
      "metadata": {
        "id": "rImYQQFSh29W"
      }
    },
    {
      "cell_type": "markdown",
      "source": [
        "It is a programming language which is very easy to learn as its english like language which human can easily understand and read. Python has been used to develop web applications, desktop applications, system adminstration, and machine learning libraries. \n",
        "\n",
        "Python is highly embraced language in the data science and machine learning community.\n",
        "\n"
      ],
      "metadata": {
        "id": "X0fwoAzlh-V0"
      }
    },
    {
      "cell_type": "markdown",
      "source": [
        "**1.3 Fundamental of python**"
      ],
      "metadata": {
        "id": "HIze-VukaxN_"
      }
    },
    {
      "cell_type": "markdown",
      "source": [
        "> ***1.3.1 Python Indentation***\n",
        "\n",
        "\n",
        "\n",
        "An indentation is a white space in a text. Indentation in many languages is used to increase code readability, however Python uses indentation to create block of codes. In other programming languages curly brackets are used to create blocks of codes instead of indentation. One of the common bugs when writing python code is wrong indentation."
      ],
      "metadata": {
        "id": "pJ7pIlHJW9YT"
      }
    },
    {
      "cell_type": "markdown",
      "source": [
        "\n",
        "\n",
        "```\n",
        "for i in range(10):\n",
        "    print(i)  # we have given the 4 white space after the colon\n",
        "```\n",
        "\n"
      ],
      "metadata": {
        "id": "kWhoAp1pnrZF"
      }
    },
    {
      "cell_type": "markdown",
      "source": [
        "> ***1.3.2 Comments***\n",
        "\n",
        "Comments are very important to make the code more readable and to leave remarks in our code. Python does not run comment parts of our code. Any text starting with hash(#) in Python is a comment."
      ],
      "metadata": {
        "id": "ZY-qHroTKx6m"
      }
    },
    {
      "cell_type": "code",
      "source": [
        "#This is the comment\n",
        "#This is second comment"
      ],
      "metadata": {
        "id": "b6kR-mezKym1"
      },
      "execution_count": 154,
      "outputs": []
    },
    {
      "cell_type": "markdown",
      "source": [
        "**1.4 Your First Python Program**"
      ],
      "metadata": {
        "id": "7rZCYGvQpBgv"
      }
    },
    {
      "cell_type": "markdown",
      "source": [
        "We will print the any string or character in print function within    \"    \""
      ],
      "metadata": {
        "id": "9SJz6p-WqvoK"
      }
    },
    {
      "cell_type": "code",
      "source": [
        "# starting your python script\n",
        "\n",
        "print(\"Hello World\")\n",
        "\n",
        "#End of python script "
      ],
      "metadata": {
        "colab": {
          "base_uri": "https://localhost:8080/"
        },
        "id": "kqZiCv5NZD-R",
        "outputId": "2640cdda-2c3c-4441-cfea-5698efcf8af5"
      },
      "execution_count": 155,
      "outputs": [
        {
          "output_type": "stream",
          "name": "stdout",
          "text": [
            "Hello World\n"
          ]
        }
      ]
    },
    {
      "cell_type": "markdown",
      "source": [
        "We will print the any numeric in print function directly"
      ],
      "metadata": {
        "id": "nlHcLKOGrToF"
      }
    },
    {
      "cell_type": "code",
      "source": [
        "print(5)"
      ],
      "metadata": {
        "colab": {
          "base_uri": "https://localhost:8080/"
        },
        "id": "zM5cL5O2rIul",
        "outputId": "6e37389d-02a7-483b-a9f1-366f78993a12"
      },
      "execution_count": 156,
      "outputs": [
        {
          "output_type": "stream",
          "name": "stdout",
          "text": [
            "5\n"
          ]
        }
      ]
    },
    {
      "cell_type": "markdown",
      "source": [
        "We can pront mix of numeric and character in followiing passion where string is in \" \" and numeric is directly exposed"
      ],
      "metadata": {
        "id": "cMIwOTdPsKuP"
      }
    },
    {
      "cell_type": "code",
      "source": [
        "print(\"a is\", 5 ,\" b is\", 3 , \"      Addition of a + b is \", 5+3)"
      ],
      "metadata": {
        "colab": {
          "base_uri": "https://localhost:8080/"
        },
        "id": "bu9iKKVorSyA",
        "outputId": "becff313-5c65-4c28-f058-affbbe7740bd"
      },
      "execution_count": 157,
      "outputs": [
        {
          "output_type": "stream",
          "name": "stdout",
          "text": [
            "a is 5  b is 3       Addition of a + b is  8\n"
          ]
        }
      ]
    },
    {
      "cell_type": "code",
      "source": [
        "print(6 + 5)             # addition(+)"
      ],
      "metadata": {
        "colab": {
          "base_uri": "https://localhost:8080/"
        },
        "id": "wILqVB9jqXrQ",
        "outputId": "f448a309-5df0-40c4-cad0-cc0d71d533f7"
      },
      "execution_count": 158,
      "outputs": [
        {
          "output_type": "stream",
          "name": "stdout",
          "text": [
            "11\n"
          ]
        }
      ]
    },
    {
      "cell_type": "code",
      "source": [
        "print(6 - 5)             # subtraction(-)"
      ],
      "metadata": {
        "colab": {
          "base_uri": "https://localhost:8080/"
        },
        "id": "Zh3sUJFUsjEK",
        "outputId": "2c8528f6-0a53-40a9-87a2-37a51794d26f"
      },
      "execution_count": 159,
      "outputs": [
        {
          "output_type": "stream",
          "name": "stdout",
          "text": [
            "1\n"
          ]
        }
      ]
    },
    {
      "cell_type": "code",
      "source": [
        "print(6 * 5)             # multiplication(*)\n"
      ],
      "metadata": {
        "colab": {
          "base_uri": "https://localhost:8080/"
        },
        "id": "kfenmHMJsjHz",
        "outputId": "760e35c2-0e06-42d0-b10f-8e7041a64c0e"
      },
      "execution_count": 160,
      "outputs": [
        {
          "output_type": "stream",
          "name": "stdout",
          "text": [
            "30\n"
          ]
        }
      ]
    },
    {
      "cell_type": "code",
      "source": [
        "print(6 / 2)             # division(/)\n"
      ],
      "metadata": {
        "colab": {
          "base_uri": "https://localhost:8080/"
        },
        "id": "gasd0X2OsjJ4",
        "outputId": "187dd566-3652-4c61-a7d8-2acb6630427c"
      },
      "execution_count": 161,
      "outputs": [
        {
          "output_type": "stream",
          "name": "stdout",
          "text": [
            "3.0\n"
          ]
        }
      ]
    },
    {
      "cell_type": "code",
      "source": [
        "print(7 ** 2)            # exponential(**)"
      ],
      "metadata": {
        "colab": {
          "base_uri": "https://localhost:8080/"
        },
        "id": "6vRvdNwjsjMC",
        "outputId": "420376b8-bfb2-4063-e30d-f23839ebc0f8"
      },
      "execution_count": 162,
      "outputs": [
        {
          "output_type": "stream",
          "name": "stdout",
          "text": [
            "49\n"
          ]
        }
      ]
    },
    {
      "cell_type": "markdown",
      "source": [
        "<h1> Assignment <h1/>"
      ],
      "metadata": {
        "id": "I9q84tjqcNSR"
      }
    },
    {
      "cell_type": "markdown",
      "source": [
        "####Task 1 : Create a simple programme and run it to say \"Hello Python\"."
      ],
      "metadata": {
        "id": "wTVJSiTycSWb"
      }
    },
    {
      "cell_type": "code",
      "source": [
        "print(\"Hello Python\")"
      ],
      "metadata": {
        "collapsed": true,
        "cellView": "code",
        "colab": {
          "base_uri": "https://localhost:8080/"
        },
        "id": "VESvJXhktKXm",
        "outputId": "52a04099-87ea-4f6f-a086-a519b241d999"
      },
      "execution_count": 163,
      "outputs": [
        {
          "output_type": "stream",
          "name": "stdout",
          "text": [
            "Hello Python\n"
          ]
        }
      ]
    },
    {
      "cell_type": "markdown",
      "source": [
        "####Task 2 : Create a simple programme to add two number 2 and 3."
      ],
      "metadata": {
        "id": "3X18IcQDt3mU"
      }
    },
    {
      "cell_type": "code",
      "source": [
        "print(2+3)"
      ],
      "metadata": {
        "colab": {
          "base_uri": "https://localhost:8080/"
        },
        "id": "1VON0Keztk0q",
        "outputId": "416dd34c-97a1-4feb-c330-00e673f39088"
      },
      "execution_count": 164,
      "outputs": [
        {
          "output_type": "stream",
          "name": "stdout",
          "text": [
            "5\n"
          ]
        }
      ]
    },
    {
      "cell_type": "markdown",
      "source": [
        "#### Task 4 : find the aread of circle if  radius of a circle is given\n",
        "\n",
        "\n",
        "Input : \n",
        "\n",
        "        P: 1000\n",
        "\n",
        "        T: 10\n",
        "\n",
        "        R: 10\n",
        "\n",
        "\n",
        "Output : \n",
        "\n",
        "        Compound Interest = 1000\n",
        "\n",
        "\n",
        "Hint : \n",
        "\n",
        "        Formula for simple interest is P * T * R / 100\n"
      ],
      "metadata": {
        "id": "zxL-9aRPvT3E"
      }
    },
    {
      "cell_type": "code",
      "source": [
        "P=1000\n",
        "T=10\n",
        "R=10\n",
        "\n",
        "print(P*T*R/100)"
      ],
      "metadata": {
        "colab": {
          "base_uri": "https://localhost:8080/"
        },
        "id": "-t1ZArhLx5MR",
        "outputId": "c05a3a8a-4845-4117-bb62-e02071d8ef0c"
      },
      "execution_count": 165,
      "outputs": [
        {
          "output_type": "stream",
          "name": "stdout",
          "text": [
            "1000.0\n"
          ]
        }
      ]
    },
    {
      "cell_type": "markdown",
      "source": [
        "#### Task 4 : find the aread of circle if  radius of a circle is given\n",
        "\n",
        "Input:\n",
        "\n",
        "      PI = 3.14\n",
        "\n",
        "      r = 21\n",
        "\n",
        "Output: \n",
        "     \n",
        "      1384.74\n",
        "\n",
        "Hint: \n",
        "    \n",
        "     formula for area of circle is PT * r * r\n"
      ],
      "metadata": {
        "id": "ktefBxE6yQLE"
      }
    },
    {
      "cell_type": "code",
      "source": [
        "PI = 3.14\n",
        "r = 21\n",
        "\n",
        "print(PI*r*r)"
      ],
      "metadata": {
        "colab": {
          "base_uri": "https://localhost:8080/"
        },
        "id": "29HIkWnG04m3",
        "outputId": "3a795ccc-bd65-490b-a3f7-ca0094439f75"
      },
      "execution_count": 166,
      "outputs": [
        {
          "output_type": "stream",
          "name": "stdout",
          "text": [
            "1384.74\n"
          ]
        }
      ]
    }
  ]
}