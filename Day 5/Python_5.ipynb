{
  "nbformat": 4,
  "nbformat_minor": 0,
  "metadata": {
    "colab": {
      "name": "Python 5",
      "provenance": []
    },
    "kernelspec": {
      "name": "python3",
      "display_name": "Python 3"
    },
    "language_info": {
      "name": "python"
    }
  },
  "cells": [
    {
      "cell_type": "markdown",
      "source": [
        "<h1> Assignment"
      ],
      "metadata": {
        "id": "l50-yfCf43tu"
      }
    },
    {
      "cell_type": "code",
      "source": [
        "#Q1 Write a script that prompts the user to enter base and height of the triangle and calculate an area of this triangle (area = 0.5 x b x h)."
      ],
      "metadata": {
        "id": "IfroMTUT43Ex"
      },
      "execution_count": 1,
      "outputs": []
    },
    {
      "cell_type": "code",
      "source": [
        "#Q2 What character is at index 10 in \"Welcome to python\" string."
      ],
      "metadata": {
        "id": "6YzkXA0pCe4w"
      },
      "execution_count": null,
      "outputs": []
    },
    {
      "cell_type": "code",
      "source": [
        "#Q3 Print character \"ome to py\" from \"Welcome to python\" string."
      ],
      "metadata": {
        "id": "7ZPJN3yADF3-"
      },
      "execution_count": null,
      "outputs": []
    },
    {
      "cell_type": "code",
      "source": [
        "#Q4 Print character \"o pyth\" from \"Welcome to python\" string using negative index"
      ],
      "metadata": {
        "id": "f3Ar3WYIDF5t"
      },
      "execution_count": null,
      "outputs": []
    },
    {
      "cell_type": "code",
      "source": [
        "#Q5     a = \"Day1, Day2, Day3, Day4, Day5\" split the string at the comma. \n",
        "#       OUTPUT:['Day1', 'Day2', 'Day3', 'Day4', 'Day5']"
      ],
      "metadata": {
        "id": "-gmeQ2LEDF83"
      },
      "execution_count": null,
      "outputs": []
    },
    {
      "cell_type": "markdown",
      "source": [
        "###Q6 Print the following string :\n",
        "\n",
        "```\n",
        "Hello welcome to the\n",
        "21 days of python\n",
        "```"
      ],
      "metadata": {
        "id": "pid61aceEaoA"
      }
    },
    {
      "cell_type": "code",
      "source": [
        "#Q7    Print multiplication table of 16"
      ],
      "metadata": {
        "id": "wROwXg0TDGCH"
      },
      "execution_count": null,
      "outputs": []
    },
    {
      "cell_type": "code",
      "source": [
        "#Q8 Check if type of '8' ?"
      ],
      "metadata": {
        "id": "sHz7mJYdDGFk"
      },
      "execution_count": null,
      "outputs": []
    },
    {
      "cell_type": "code",
      "source": [
        "#Q9  Convert the type '64' to int"
      ],
      "metadata": {
        "id": "_AzuRBTMDGIf"
      },
      "execution_count": null,
      "outputs": []
    },
    {
      "cell_type": "code",
      "source": [
        "#Q10 Python Program to calculate the square root."
      ],
      "metadata": {
        "id": "ziBBFcGFDGK_"
      },
      "execution_count": null,
      "outputs": []
    },
    {
      "cell_type": "code",
      "source": [
        "#Q11 Taking kilometers input from the user convert it into meter."
      ],
      "metadata": {
        "id": "AUDQaWuzFnsM"
      },
      "execution_count": null,
      "outputs": []
    }
  ]
}