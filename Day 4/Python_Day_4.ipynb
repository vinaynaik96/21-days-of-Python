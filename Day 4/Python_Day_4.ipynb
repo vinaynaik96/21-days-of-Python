{
  "nbformat": 4,
  "nbformat_minor": 0,
  "metadata": {
    "colab": {
      "name": "Python Day 4",
      "provenance": []
    },
    "kernelspec": {
      "name": "python3",
      "display_name": "Python 3"
    },
    "language_info": {
      "name": "python"
    }
  },
  "cells": [
    {
      "cell_type": "markdown",
      "source": [
        "<h1> 1 . Python - Strings "
      ],
      "metadata": {
        "id": "tJgMFdQiokvj"
      }
    },
    {
      "cell_type": "code",
      "source": [
        "print(\"Python\")"
      ],
      "metadata": {
        "colab": {
          "base_uri": "https://localhost:8080/"
        },
        "id": "kXPsvXg4onX-",
        "outputId": "35780d0f-0924-4554-d431-f5b98fee861a"
      },
      "execution_count": 4,
      "outputs": [
        {
          "output_type": "stream",
          "name": "stdout",
          "text": [
            "Python\n"
          ]
        }
      ]
    },
    {
      "cell_type": "code",
      "source": [
        "print('Python')"
      ],
      "metadata": {
        "colab": {
          "base_uri": "https://localhost:8080/"
        },
        "id": "vE4eyZk8onZl",
        "outputId": "3a51204c-1b03-4eda-ae67-a271d36914b9"
      },
      "execution_count": 5,
      "outputs": [
        {
          "output_type": "stream",
          "name": "stdout",
          "text": [
            "Python\n"
          ]
        }
      ]
    },
    {
      "cell_type": "code",
      "source": [
        "print('''Python''')"
      ],
      "metadata": {
        "colab": {
          "base_uri": "https://localhost:8080/"
        },
        "id": "isxgzSpMzxkw",
        "outputId": "2257b196-4128-43fb-f248-9b79a1355a67"
      },
      "execution_count": 7,
      "outputs": [
        {
          "output_type": "stream",
          "name": "stdout",
          "text": [
            "Python\n"
          ]
        }
      ]
    },
    {
      "cell_type": "code",
      "source": [
        "a = \"\"\" There are the example of\n",
        "        multiline code \"\"\"\n",
        "print(a)"
      ],
      "metadata": {
        "colab": {
          "base_uri": "https://localhost:8080/"
        },
        "id": "l4-QcNcYondF",
        "outputId": "b5092b4e-b673-4f24-dbef-7aa81ad14a33"
      },
      "execution_count": 6,
      "outputs": [
        {
          "output_type": "stream",
          "name": "stdout",
          "text": [
            " There are the example of\n",
            "        multiline code \n"
          ]
        }
      ]
    },
    {
      "cell_type": "code",
      "source": [
        "a ='hello\"s world'\n",
        "print(a)"
      ],
      "metadata": {
        "colab": {
          "base_uri": "https://localhost:8080/"
        },
        "id": "rZwD3Srsonef",
        "outputId": "6eda3778-1efb-4844-b3bd-025307ef2eee"
      },
      "execution_count": 9,
      "outputs": [
        {
          "output_type": "stream",
          "name": "stdout",
          "text": [
            "hello\"s world\n"
          ]
        }
      ]
    },
    {
      "cell_type": "code",
      "source": [
        "a =\"hello's world\"\n",
        "print(a)"
      ],
      "metadata": {
        "colab": {
          "base_uri": "https://localhost:8080/"
        },
        "id": "cNXU7VgLonij",
        "outputId": "d7769d40-dd73-4d80-9f0d-65e6eb52a464"
      },
      "execution_count": 10,
      "outputs": [
        {
          "output_type": "stream",
          "name": "stdout",
          "text": [
            "hello's world\n"
          ]
        }
      ]
    },
    {
      "cell_type": "code",
      "source": [
        "a = ''' hello's world\"s'''\n",
        "print(a)"
      ],
      "metadata": {
        "colab": {
          "base_uri": "https://localhost:8080/"
        },
        "id": "1Xi-dHHUonlt",
        "outputId": "a333b599-8308-419e-ec55-5a44d3841195"
      },
      "execution_count": 11,
      "outputs": [
        {
          "output_type": "stream",
          "name": "stdout",
          "text": [
            " hello's world\"s\n"
          ]
        }
      ]
    },
    {
      "cell_type": "markdown",
      "source": [
        "\n",
        "\n",
        "<h1> 1.2 String Slice\n",
        "\n"
      ],
      "metadata": {
        "id": "deMBF5OS0Veo"
      }
    },
    {
      "cell_type": "code",
      "source": [
        "b = \"Hello, World!\"\n",
        "\n",
        "'''\n",
        "    H - 0\n",
        "    e - 1\n",
        "    l -3\n",
        "    l - 4\n",
        "    o - 5\n",
        "    , - 6\n",
        "      - 7\n",
        "    W - 8\n",
        "    o - 9\n",
        "    r - 10\n",
        "    l - 11\n",
        "    d - 12\n",
        "    ! - 13  \n",
        "'''"
      ],
      "metadata": {
        "colab": {
          "base_uri": "https://localhost:8080/"
        },
        "id": "DUL_2UR90mHe",
        "outputId": "95bc67fd-953c-4415-839f-20250a779392"
      },
      "execution_count": 13,
      "outputs": [
        {
          "output_type": "stream",
          "name": "stdout",
          "text": [
            "llo\n"
          ]
        }
      ]
    },
    {
      "cell_type": "code",
      "source": [
        "print(b[0:9])"
      ],
      "metadata": {
        "colab": {
          "base_uri": "https://localhost:8080/"
        },
        "id": "tJPzgvS_0mJP",
        "outputId": "9c89ab8d-34a4-4f9f-c88e-f32471ec97a6"
      },
      "execution_count": 15,
      "outputs": [
        {
          "output_type": "stream",
          "name": "stdout",
          "text": [
            "Hello, Wo\n"
          ]
        }
      ]
    },
    {
      "cell_type": "code",
      "source": [
        "print(b[:5])"
      ],
      "metadata": {
        "id": "Lmyi4QJ20mNj"
      },
      "execution_count": null,
      "outputs": []
    },
    {
      "cell_type": "code",
      "source": [
        "print(b[1:])"
      ],
      "metadata": {
        "colab": {
          "base_uri": "https://localhost:8080/"
        },
        "id": "b6l9_TnJ9ORJ",
        "outputId": "05647468-a09b-48f9-f8e1-3e907fe64771"
      },
      "execution_count": 16,
      "outputs": [
        {
          "output_type": "stream",
          "name": "stdout",
          "text": [
            "ello, World!\n"
          ]
        }
      ]
    },
    {
      "cell_type": "code",
      "source": [
        "print(b[::-1])"
      ],
      "metadata": {
        "colab": {
          "base_uri": "https://localhost:8080/"
        },
        "id": "IXbZbNe90mP0",
        "outputId": "861e72be-3cce-46b0-c487-e4948b9a4eca"
      },
      "execution_count": 21,
      "outputs": [
        {
          "output_type": "stream",
          "name": "stdout",
          "text": [
            "!dlroW ,olleH\n"
          ]
        }
      ]
    },
    {
      "cell_type": "code",
      "source": [
        "b = \"Hello, World!\"\n",
        "print(b[-5:-2])"
      ],
      "metadata": {
        "colab": {
          "base_uri": "https://localhost:8080/"
        },
        "id": "1k5rc-920mTM",
        "outputId": "95567828-43ec-4da1-de19-e44445f7ac3a"
      },
      "execution_count": 22,
      "outputs": [
        {
          "output_type": "stream",
          "name": "stdout",
          "text": [
            "orl\n"
          ]
        }
      ]
    },
    {
      "cell_type": "code",
      "source": [
        "a = \"Hello, World!\"\n",
        "print(a.upper())"
      ],
      "metadata": {
        "colab": {
          "base_uri": "https://localhost:8080/"
        },
        "id": "Orqtazyp0mVv",
        "outputId": "6c84c8f4-7f9a-4dc1-8e35-d45e686e1004"
      },
      "execution_count": 23,
      "outputs": [
        {
          "output_type": "stream",
          "name": "stdout",
          "text": [
            "HELLO, WORLD!\n"
          ]
        }
      ]
    },
    {
      "cell_type": "code",
      "source": [
        "a = \"Hello, World!\"\n",
        "print(a.lower())"
      ],
      "metadata": {
        "colab": {
          "base_uri": "https://localhost:8080/"
        },
        "id": "fNd71xNY0mZH",
        "outputId": "4b79f43f-ac13-4c3d-ffb0-67032c9dc9ef"
      },
      "execution_count": 24,
      "outputs": [
        {
          "output_type": "stream",
          "name": "stdout",
          "text": [
            "hello, world!\n"
          ]
        }
      ]
    },
    {
      "cell_type": "code",
      "source": [
        "a = \"Hello, World!\"\n",
        "print(a.replace(\"W\", \"K\"))"
      ],
      "metadata": {
        "colab": {
          "base_uri": "https://localhost:8080/"
        },
        "id": "apzImhYWEULq",
        "outputId": "7e2ed4aa-a868-4d86-e01a-3fc641776848"
      },
      "execution_count": 26,
      "outputs": [
        {
          "output_type": "stream",
          "name": "stdout",
          "text": [
            "Hello, Korld!\n"
          ]
        }
      ]
    },
    {
      "cell_type": "code",
      "source": [
        "a = \"Hello, World!\"\n",
        "print(a.split(\",\"))"
      ],
      "metadata": {
        "colab": {
          "base_uri": "https://localhost:8080/"
        },
        "id": "7dqrWqFJEUkO",
        "outputId": "133d67b5-6650-4f19-d8c4-73307aa9b49a"
      },
      "execution_count": 27,
      "outputs": [
        {
          "output_type": "stream",
          "name": "stdout",
          "text": [
            "['Hello', ' World!']\n"
          ]
        }
      ]
    },
    {
      "cell_type": "code",
      "source": [
        "a = \"Hello\"\n",
        "b = \"World\"\n",
        "c = a + b\n",
        "print(c)"
      ],
      "metadata": {
        "colab": {
          "base_uri": "https://localhost:8080/"
        },
        "id": "J9SN0PnUEUmF",
        "outputId": "991e413a-791d-43a0-b97b-b65fa083f771"
      },
      "execution_count": 28,
      "outputs": [
        {
          "output_type": "stream",
          "name": "stdout",
          "text": [
            "HelloWorld\n"
          ]
        }
      ]
    },
    {
      "cell_type": "markdown",
      "source": [
        "<h1>Python - Input/Output\n",
        "\n",
        "1. For Input we use input() and for output we use print() are widely used for standard input and output operations respectively.\n",
        "2.  We will use input() function to accept input from user and print from python console default it take name as string"
      ],
      "metadata": {
        "id": "iPSTgEq3lYal"
      }
    },
    {
      "cell_type": "code",
      "execution_count": 19,
      "metadata": {
        "colab": {
          "base_uri": "https://localhost:8080/"
        },
        "id": "dMgdKXhhNA_v",
        "outputId": "53d20250-141e-442c-d44b-eaef3383591c"
      },
      "outputs": [
        {
          "output_type": "stream",
          "name": "stdout",
          "text": [
            "Enter a number: 54\n",
            "54\n"
          ]
        }
      ],
      "source": [
        "#Example 1\n",
        "\n",
        "num = input('Enter a number: ')\n",
        "\n",
        "print(num)"
      ]
    },
    {
      "cell_type": "code",
      "source": [
        "#Example 2\n",
        "\n",
        "#Accept Input a & b\n",
        "\n",
        "a = int(input('Enter a number: '))\n",
        "b = int(input('Enter b number: '))"
      ],
      "metadata": {
        "colab": {
          "base_uri": "https://localhost:8080/"
        },
        "id": "xeRBvjmENgcU",
        "outputId": "f98f0109-c078-4544-c33c-464f4fbb576e"
      },
      "execution_count": 20,
      "outputs": [
        {
          "name": "stdout",
          "output_type": "stream",
          "text": [
            "Enter a number: 4\n",
            "Enter b number: 5\n"
          ]
        }
      ]
    },
    {
      "cell_type": "code",
      "source": [
        "#Arthamatc Operation\n",
        "\n",
        "add = a + b\n",
        "sub = a- b"
      ],
      "metadata": {
        "id": "BX96o3zIlKy8"
      },
      "execution_count": 15,
      "outputs": []
    },
    {
      "cell_type": "code",
      "source": [
        "#Output 1\n",
        "\n",
        "print('The input value of a is {} and b is {}'.format(a,b))"
      ],
      "metadata": {
        "colab": {
          "base_uri": "https://localhost:8080/"
        },
        "id": "OOut_aSgj3P9",
        "outputId": "ec688775-91bd-4d3c-89fa-57c8bb24816c"
      },
      "execution_count": 16,
      "outputs": [
        {
          "output_type": "stream",
          "name": "stdout",
          "text": [
            "The value of a is 4 and b is 5\n"
          ]
        }
      ]
    },
    {
      "cell_type": "code",
      "source": [
        " #Output 2\n",
        " '''\n",
        "    Here after format(a,b,add) the format store 3 values where index 0 store value of a\n",
        "                                                               index 1 store value of b\n",
        "                                                               index 2 store value of add  \n",
        " '''\n",
        "\n",
        " print('{2} is the sum of {0} and {1}'.format(a,b,add))"
      ],
      "metadata": {
        "colab": {
          "base_uri": "https://localhost:8080/"
        },
        "id": "E_5HGtkkj6LQ",
        "outputId": "80d63167-6c91-42b5-85ca-2b8e9aff1dc8"
      },
      "execution_count": 21,
      "outputs": [
        {
          "output_type": "stream",
          "name": "stdout",
          "text": [
            "9 is the sum of 4 and 5\n"
          ]
        }
      ]
    }
  ]
}