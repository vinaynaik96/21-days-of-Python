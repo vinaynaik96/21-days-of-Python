{
  "nbformat": 4,
  "nbformat_minor": 0,
  "metadata": {
    "colab": {
      "name": "Python Day-2    Keywords & Variables",
      "provenance": []
    },
    "kernelspec": {
      "name": "python3",
      "display_name": "Python 3"
    },
    "language_info": {
      "name": "python"
    }
  },
  "cells": [
    {
      "cell_type": "markdown",
      "source": [
        "<h1> Keywords</h1>"
      ],
      "metadata": {
        "id": "BrLK_OGG2A2v"
      }
    },
    {
      "cell_type": "markdown",
      "source": [
        "Keywords in Python are reserved words that can not be used as a variable name, function name, or any other identifier."
      ],
      "metadata": {
        "id": "OpwmTmAB42x6"
      }
    },
    {
      "cell_type": "code",
      "source": [
        "import keyword\n",
        "  \n",
        "print(keyword.kwlist)\n",
        "\n",
        "print(\"Total Legth   \",len(keyword.kwlist))"
      ],
      "metadata": {
        "colab": {
          "base_uri": "https://localhost:8080/"
        },
        "id": "VoU7tUJm5BAj",
        "outputId": "3a2f6f18-207c-4610-c374-5e3cfb0115b9"
      },
      "execution_count": 1,
      "outputs": [
        {
          "output_type": "stream",
          "name": "stdout",
          "text": [
            "['False', 'None', 'True', 'and', 'as', 'assert', 'async', 'await', 'break', 'class', 'continue', 'def', 'del', 'elif', 'else', 'except', 'finally', 'for', 'from', 'global', 'if', 'import', 'in', 'is', 'lambda', 'nonlocal', 'not', 'or', 'pass', 'raise', 'return', 'try', 'while', 'with', 'yield']\n",
            "Total Legth    35\n"
          ]
        }
      ]
    },
    {
      "cell_type": "markdown",
      "source": [
        "<h1> Variables</h1>"
      ],
      "metadata": {
        "id": "Q9f3AxkS42zw"
      }
    },
    {
      "cell_type": "markdown",
      "source": [
        "Variables store data in a computer memory. Mnemonic variables are recommended to use in many programming languages. A mnemonic variable is a variable name that can be easily remembered and associated. A variable refers to a memory address in which data is stored. Number at the beginning, special character, hyphen are not allowed when naming a variable. A variable can have a short name (like x, y, z), but a more descriptive name (firstname, lastname, age, country) is highly recommended.\n",
        "\n",
        "\n",
        "Python Variable Name Rules\n",
        "\n",
        "\n",
        "\n",
        "1.   A variable name must start with a letter or the underscore character\n",
        "2.   A variable name cannot start with a number\n",
        "3.   A variable name can only contain alpha-numeric characters and underscores  (A-z, 0-9, and _ )\n",
        "4.   Variable names are case-sensitive (firstname, Firstname, FirstName and FIRSTNAME) are different variables)\n",
        "\n",
        "\n",
        "\n",
        "\n",
        "\n",
        "\n"
      ],
      "metadata": {
        "id": "nXvW69G5423W"
      }
    },
    {
      "cell_type": "markdown",
      "source": [
        "\n",
        "Valid Variable Name\n",
        "\n",
        "```\n",
        "firstname\n",
        "last_name\n",
        "_if # if we want to use reserved word as a variable\n",
        "```\n",
        "\n"
      ],
      "metadata": {
        "id": "NnwdSas2Fxgx"
      }
    },
    {
      "cell_type": "markdown",
      "source": [
        "Nonvalid Variable Name\n",
        "\n",
        "```\n",
        "first-name\n",
        "first@name\n",
        "first$name\n",
        "num-1\n",
        "1num\n",
        "```\n",
        "\n"
      ],
      "metadata": {
        "id": "iadumNuNGczO"
      }
    },
    {
      "cell_type": "markdown",
      "source": [
        "Example:"
      ],
      "metadata": {
        "id": "MArdgqI3I-1s"
      }
    },
    {
      "cell_type": "code",
      "source": [
        "first_name = 'Virat' #Storing String in variable first_name\n",
        "\n",
        "# Printing the values stored in the variables\n",
        "\n",
        "print('First name:', first_name)"
      ],
      "metadata": {
        "colab": {
          "base_uri": "https://localhost:8080/"
        },
        "id": "NYsmdgoR3o5M",
        "outputId": "6890f64a-324f-460f-d709-50a90ea76d92"
      },
      "execution_count": 2,
      "outputs": [
        {
          "output_type": "stream",
          "name": "stdout",
          "text": [
            "First name: Virat\n"
          ]
        }
      ]
    },
    {
      "cell_type": "code",
      "source": [
        "last_name = 'Kohli'  #Storing String in variable lasr_name\n",
        "\n",
        "print('Last name: ', last_name)"
      ],
      "metadata": {
        "colab": {
          "base_uri": "https://localhost:8080/"
        },
        "id": "gh2xjTB54Qgf",
        "outputId": "8d98dab6-63b0-4757-b9d0-acd70bf5618c"
      },
      "execution_count": 3,
      "outputs": [
        {
          "output_type": "stream",
          "name": "stdout",
          "text": [
            "Last name:  Kohli\n"
          ]
        }
      ]
    },
    {
      "cell_type": "code",
      "source": [
        "age = 33             #Storing numerical in variable age\n",
        "\n",
        "print('Age: ', age)"
      ],
      "metadata": {
        "colab": {
          "base_uri": "https://localhost:8080/"
        },
        "id": "cvd8u4YK4QiP",
        "outputId": "b7f8c679-5907-4c0f-9ee3-8e6c2341c3fb"
      },
      "execution_count": 4,
      "outputs": [
        {
          "output_type": "stream",
          "name": "stdout",
          "text": [
            "Age:  33\n"
          ]
        }
      ]
    },
    {
      "cell_type": "code",
      "source": [
        "Average = 50.12      #Storing Float value in variable Average\n",
        "\n",
        "print('Average:', Average)"
      ],
      "metadata": {
        "colab": {
          "base_uri": "https://localhost:8080/"
        },
        "id": "7TX3TrLM4QmJ",
        "outputId": "8e1a0197-986e-49e5-f15d-656f6ae2f415"
      },
      "execution_count": 5,
      "outputs": [
        {
          "output_type": "stream",
          "name": "stdout",
          "text": [
            "Average: 50.12\n"
          ]
        }
      ]
    },
    {
      "cell_type": "code",
      "source": [
        "is_married = True    #Storing boolean value in boolean value\n",
        "\n",
        "print('Married: ', is_married)"
      ],
      "metadata": {
        "colab": {
          "base_uri": "https://localhost:8080/"
        },
        "id": "HC_iuYrm4Qnu",
        "outputId": "bb1419d8-e26f-403f-d719-2bcc7121ea7b"
      },
      "execution_count": 6,
      "outputs": [
        {
          "output_type": "stream",
          "name": "stdout",
          "text": [
            "Married:  True\n"
          ]
        }
      ]
    },
    {
      "cell_type": "code",
      "source": [
        "skills = ['batting', 'bowling', 'fielding ', 'All-rounder'] #storing multiple string in list\n",
        "\n",
        "print('Skills: ', skills)"
      ],
      "metadata": {
        "colab": {
          "base_uri": "https://localhost:8080/"
        },
        "id": "cmzS852B4QrZ",
        "outputId": "af32390b-46e3-4e48-ec6a-04e7ffb0144d"
      },
      "execution_count": 7,
      "outputs": [
        {
          "output_type": "stream",
          "name": "stdout",
          "text": [
            "Skills:  ['batting', 'bowling', 'fielding ', 'All-rounder']\n"
          ]
        }
      ]
    },
    {
      "cell_type": "markdown",
      "source": [
        "<h1>Assignment<h1/>"
      ],
      "metadata": {
        "id": "jJHrc3mcHVrO"
      }
    },
    {
      "cell_type": "markdown",
      "source": [
        "1. Write a python comment saying 'welcome to the space'\n",
        "2. Declare a first name variable and assign a value to it\n",
        "3. Declare a last name variable and assign a value to it\n",
        "4. Declare a full name variable and assign a value to it\n",
        "5. Declare a country variable and assign a value to it\n",
        "6. Declare a city variable and assign a value to it\n",
        "7. Declare an age variable and assign a value to it\n",
        "8. Declare a variable is_married and assign a value to it"
      ],
      "metadata": {
        "id": "T8f2kJmuH3VO"
      }
    }
  ]
}