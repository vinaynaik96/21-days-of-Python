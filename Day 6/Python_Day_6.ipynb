{
  "nbformat": 4,
  "nbformat_minor": 0,
  "metadata": {
    "colab": {
      "name": "Python Day 6",
      "provenance": []
    },
    "kernelspec": {
      "name": "python3",
      "display_name": "Python 3"
    },
    "language_info": {
      "name": "python"
    }
  },
  "cells": [
    {
      "cell_type": "markdown",
      "source": [
        "<h1> Python - Data Structure\n",
        "\n",
        "> Data Structures helps you to store your data into a structured manner and allows you to organize your data in such a way that enables you to store collections of data, relate them and perform operations on them accordingly. "
      ],
      "metadata": {
        "id": "0DSYFj3zdmEo"
      }
    },
    {
      "cell_type": "markdown",
      "source": [
        "Python has inbuit 4 basic Data Structure which helps you to work upon software development\n",
        "\n",
        "1.   List\n",
        "2.   Tuple\n",
        "3.   Dictionary\n",
        "4.   Set\n",
        "\n"
      ],
      "metadata": {
        "id": "NoQYh0u2dtIE"
      }
    },
    {
      "cell_type": "markdown",
      "source": [
        "<h1> LIST\n",
        "\n",
        "> Lists are used to store multiple items in a single variable.List in Python are ordered and you can store the different data type. The element can be counted from index 0"
      ],
      "metadata": {
        "id": "kZHDp00hmuMa"
      }
    },
    {
      "cell_type": "markdown",
      "source": [
        "###Creating the list"
      ],
      "metadata": {
        "id": "zpK4-3DzbSWY"
      }
    },
    {
      "cell_type": "code",
      "source": [
        "#1 list =[]\n",
        "list=[\"car\",\"bike\",\"cycle\",\"train\"]\n",
        "list1=[\"car\",1,5.6,\"train\"]"
      ],
      "metadata": {
        "id": "bZaFlQelm06J"
      },
      "execution_count": 7,
      "outputs": []
    },
    {
      "cell_type": "code",
      "source": [
        "#2\n",
        "list"
      ],
      "metadata": {
        "colab": {
          "base_uri": "https://localhost:8080/"
        },
        "id": "eRR4ddMCbxi6",
        "outputId": "1c860b5c-a593-4f79-fc56-25a0a39ba043"
      },
      "execution_count": 8,
      "outputs": [
        {
          "output_type": "execute_result",
          "data": {
            "text/plain": [
              "['car', 'bike', 'cycle', 'train']"
            ]
          },
          "metadata": {},
          "execution_count": 8
        }
      ]
    },
    {
      "cell_type": "code",
      "source": [
        "#3\n",
        "list1"
      ],
      "metadata": {
        "colab": {
          "base_uri": "https://localhost:8080/"
        },
        "id": "I6VzCjeDbxl6",
        "outputId": "92b9e03f-97de-49e0-d138-6301993fdcef"
      },
      "execution_count": 9,
      "outputs": [
        {
          "output_type": "execute_result",
          "data": {
            "text/plain": [
              "['car', 1, 5.6, 'train']"
            ]
          },
          "metadata": {},
          "execution_count": 9
        }
      ]
    },
    {
      "cell_type": "code",
      "source": [
        "#4\n",
        "type(list1[0])"
      ],
      "metadata": {
        "colab": {
          "base_uri": "https://localhost:8080/"
        },
        "id": "9ODNzJ79b03Y",
        "outputId": "0218d32c-f5f7-4e33-a09a-944232fd9895"
      },
      "execution_count": 10,
      "outputs": [
        {
          "output_type": "execute_result",
          "data": {
            "text/plain": [
              "str"
            ]
          },
          "metadata": {},
          "execution_count": 10
        }
      ]
    },
    {
      "cell_type": "code",
      "source": [
        "#5\n",
        "type(list1[1])"
      ],
      "metadata": {
        "colab": {
          "base_uri": "https://localhost:8080/"
        },
        "id": "1XO-63bGb4S4",
        "outputId": "274d2a27-d645-4ed4-9b6d-06fe16cfd9d4"
      },
      "execution_count": 11,
      "outputs": [
        {
          "output_type": "execute_result",
          "data": {
            "text/plain": [
              "int"
            ]
          },
          "metadata": {},
          "execution_count": 11
        }
      ]
    },
    {
      "cell_type": "code",
      "source": [
        "#6\n",
        "type(list1[2])"
      ],
      "metadata": {
        "colab": {
          "base_uri": "https://localhost:8080/"
        },
        "id": "7smAWe7sb4Vz",
        "outputId": "08c48bba-a06d-4b86-a16b-07f108c07db8"
      },
      "execution_count": 13,
      "outputs": [
        {
          "output_type": "execute_result",
          "data": {
            "text/plain": [
              "float"
            ]
          },
          "metadata": {},
          "execution_count": 13
        }
      ]
    },
    {
      "cell_type": "markdown",
      "source": [
        "> list1 indexing "
      ],
      "metadata": {
        "id": "JwLK__3Znk7m"
      }
    },
    {
      "cell_type": "code",
      "source": [
        "#7\n",
        "list[0]"
      ],
      "metadata": {
        "colab": {
          "base_uri": "https://localhost:8080/",
          "height": 35
        },
        "id": "Wl8ljUbanBcu",
        "outputId": "80309c1f-0a87-4352-8628-238abadc9015"
      },
      "execution_count": 2,
      "outputs": [
        {
          "output_type": "execute_result",
          "data": {
            "application/vnd.google.colaboratory.intrinsic+json": {
              "type": "string"
            },
            "text/plain": [
              "'car'"
            ]
          },
          "metadata": {},
          "execution_count": 2
        }
      ]
    },
    {
      "cell_type": "code",
      "source": [
        "#8\n",
        "list[1]"
      ],
      "metadata": {
        "colab": {
          "base_uri": "https://localhost:8080/",
          "height": 35
        },
        "id": "TqOLoEDhnDOL",
        "outputId": "c540ef28-b8f0-4f7f-84b3-43f1a7616efe"
      },
      "execution_count": 4,
      "outputs": [
        {
          "output_type": "execute_result",
          "data": {
            "application/vnd.google.colaboratory.intrinsic+json": {
              "type": "string"
            },
            "text/plain": [
              "'bike'"
            ]
          },
          "metadata": {},
          "execution_count": 4
        }
      ]
    },
    {
      "cell_type": "code",
      "source": [
        "#9\n",
        "list[2]"
      ],
      "metadata": {
        "colab": {
          "base_uri": "https://localhost:8080/",
          "height": 35
        },
        "id": "C1FEJI0inESU",
        "outputId": "3591ebc8-d63b-4611-c671-eafd5bc76b8b"
      },
      "execution_count": 5,
      "outputs": [
        {
          "output_type": "execute_result",
          "data": {
            "application/vnd.google.colaboratory.intrinsic+json": {
              "type": "string"
            },
            "text/plain": [
              "'cycle'"
            ]
          },
          "metadata": {},
          "execution_count": 5
        }
      ]
    },
    {
      "cell_type": "code",
      "source": [
        "#10\n",
        "list[3]"
      ],
      "metadata": {
        "colab": {
          "base_uri": "https://localhost:8080/",
          "height": 35
        },
        "id": "FwyxhYo7nKgo",
        "outputId": "bc9cdd9b-e0f8-4b3a-b191-5017b81d0e53"
      },
      "execution_count": 4,
      "outputs": [
        {
          "output_type": "execute_result",
          "data": {
            "application/vnd.google.colaboratory.intrinsic+json": {
              "type": "string"
            },
            "text/plain": [
              "'train'"
            ]
          },
          "metadata": {},
          "execution_count": 4
        }
      ]
    },
    {
      "cell_type": "markdown",
      "source": [
        "> Negative Indexing"
      ],
      "metadata": {
        "id": "CeNf_cV9nqIf"
      }
    },
    {
      "cell_type": "code",
      "source": [
        "#11\n",
        "list[-1]"
      ],
      "metadata": {
        "colab": {
          "base_uri": "https://localhost:8080/",
          "height": 35
        },
        "id": "8TAG5v9UnL8u",
        "outputId": "5c614ced-f6f8-4ae1-cb20-cc6d42f02fb7"
      },
      "execution_count": 7,
      "outputs": [
        {
          "output_type": "execute_result",
          "data": {
            "application/vnd.google.colaboratory.intrinsic+json": {
              "type": "string"
            },
            "text/plain": [
              "'train'"
            ]
          },
          "metadata": {},
          "execution_count": 7
        }
      ]
    },
    {
      "cell_type": "code",
      "source": [
        "#12\n",
        "list[-2]"
      ],
      "metadata": {
        "colab": {
          "base_uri": "https://localhost:8080/",
          "height": 35
        },
        "id": "wi5Q96F3nfmW",
        "outputId": "04f781eb-8ca2-4b0c-b0c0-dd07be406ad5"
      },
      "execution_count": 8,
      "outputs": [
        {
          "output_type": "execute_result",
          "data": {
            "application/vnd.google.colaboratory.intrinsic+json": {
              "type": "string"
            },
            "text/plain": [
              "'cycle'"
            ]
          },
          "metadata": {},
          "execution_count": 8
        }
      ]
    },
    {
      "cell_type": "code",
      "source": [
        "#13\n",
        "list[-3]"
      ],
      "metadata": {
        "colab": {
          "base_uri": "https://localhost:8080/",
          "height": 35
        },
        "id": "mfqS87QRngoE",
        "outputId": "8d303268-0ed4-43e9-9ef0-eea7578f5021"
      },
      "execution_count": 9,
      "outputs": [
        {
          "output_type": "execute_result",
          "data": {
            "application/vnd.google.colaboratory.intrinsic+json": {
              "type": "string"
            },
            "text/plain": [
              "'bike'"
            ]
          },
          "metadata": {},
          "execution_count": 9
        }
      ]
    },
    {
      "cell_type": "code",
      "source": [
        "#14\n",
        "list[-4]"
      ],
      "metadata": {
        "colab": {
          "base_uri": "https://localhost:8080/",
          "height": 35
        },
        "id": "W5-M17EJnhyS",
        "outputId": "2a53c4c3-72b7-4193-c136-8e944121e436"
      },
      "execution_count": 6,
      "outputs": [
        {
          "output_type": "execute_result",
          "data": {
            "application/vnd.google.colaboratory.intrinsic+json": {
              "type": "string"
            },
            "text/plain": [
              "'car'"
            ]
          },
          "metadata": {},
          "execution_count": 6
        }
      ]
    },
    {
      "cell_type": "markdown",
      "source": [
        "> list1 slicing"
      ],
      "metadata": {
        "id": "sSAD9ly5oAQr"
      }
    },
    {
      "cell_type": "code",
      "source": [
        "#15\n",
        "list[0:2]"
      ],
      "metadata": {
        "colab": {
          "base_uri": "https://localhost:8080/"
        },
        "id": "TJdzYXW2njWy",
        "outputId": "2567473a-b33a-4260-9042-d6e2d59e04c6"
      },
      "execution_count": 11,
      "outputs": [
        {
          "output_type": "execute_result",
          "data": {
            "text/plain": [
              "['car', 'bike']"
            ]
          },
          "metadata": {},
          "execution_count": 11
        }
      ]
    },
    {
      "cell_type": "code",
      "source": [
        "#16\n",
        "list[1:]"
      ],
      "metadata": {
        "colab": {
          "base_uri": "https://localhost:8080/"
        },
        "id": "wUa5foCHn110",
        "outputId": "b3bcc409-7e25-4092-9cdf-a4c76edaaf4e"
      },
      "execution_count": 12,
      "outputs": [
        {
          "output_type": "execute_result",
          "data": {
            "text/plain": [
              "['bike', 'cycle', 'train']"
            ]
          },
          "metadata": {},
          "execution_count": 12
        }
      ]
    },
    {
      "cell_type": "code",
      "source": [
        "#17\n",
        "list[:-3]"
      ],
      "metadata": {
        "colab": {
          "base_uri": "https://localhost:8080/"
        },
        "id": "gbTgmFdon4OX",
        "outputId": "8b6df139-5db8-455e-9d04-bea368ac8852"
      },
      "execution_count": 15,
      "outputs": [
        {
          "output_type": "execute_result",
          "data": {
            "text/plain": [
              "['car']"
            ]
          },
          "metadata": {},
          "execution_count": 15
        }
      ]
    },
    {
      "cell_type": "code",
      "source": [
        "#18\n",
        "print('bike' in list)"
      ],
      "metadata": {
        "colab": {
          "base_uri": "https://localhost:8080/"
        },
        "id": "BkNqxs70n5pr",
        "outputId": "94512456-eb9b-4faf-b92d-c5f4275eef0a"
      },
      "execution_count": 15,
      "outputs": [
        {
          "output_type": "stream",
          "name": "stdout",
          "text": [
            "True\n"
          ]
        }
      ]
    },
    {
      "cell_type": "code",
      "source": [
        "#19 Find the length of an list\n",
        "len(list)"
      ],
      "metadata": {
        "colab": {
          "base_uri": "https://localhost:8080/"
        },
        "id": "ytEpy-LLcIYt",
        "outputId": "047c9e1a-cff3-436e-f7ea-d4f3dfeb52f0"
      },
      "execution_count": 16,
      "outputs": [
        {
          "output_type": "execute_result",
          "data": {
            "text/plain": [
              "4"
            ]
          },
          "metadata": {},
          "execution_count": 16
        }
      ]
    },
    {
      "cell_type": "code",
      "source": [
        "#20 to append the list value\n",
        "list.append(\"motor\")"
      ],
      "metadata": {
        "id": "8eXHvp4Ac1ph"
      },
      "execution_count": 17,
      "outputs": []
    },
    {
      "cell_type": "code",
      "source": [
        "#21 \n",
        "print(list)"
      ],
      "metadata": {
        "colab": {
          "base_uri": "https://localhost:8080/"
        },
        "id": "boYRTeskc9td",
        "outputId": "09d6969d-31ae-48ff-de1b-235b108fe8ff"
      },
      "execution_count": 18,
      "outputs": [
        {
          "output_type": "stream",
          "name": "stdout",
          "text": [
            "['car', 'bike', 'cycle', 'train', 'motor']\n"
          ]
        }
      ]
    },
    {
      "cell_type": "code",
      "source": [
        "#22\n",
        "list.append(\"super bike\")"
      ],
      "metadata": {
        "id": "Tvt9LlvfdENv"
      },
      "execution_count": 20,
      "outputs": []
    },
    {
      "cell_type": "code",
      "source": [
        "#23\n",
        "list"
      ],
      "metadata": {
        "colab": {
          "base_uri": "https://localhost:8080/"
        },
        "id": "Wyct4hjhdQOP",
        "outputId": "5ce52b8d-3a4e-4784-d8a9-3ff43828384a"
      },
      "execution_count": 21,
      "outputs": [
        {
          "output_type": "execute_result",
          "data": {
            "text/plain": [
              "['car', 'bike', 'cycle', 'train', 'motor', 'super bike']"
            ]
          },
          "metadata": {},
          "execution_count": 21
        }
      ]
    }
  ]
}