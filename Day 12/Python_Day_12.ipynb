{
  "nbformat": 4,
  "nbformat_minor": 0,
  "metadata": {
    "colab": {
      "name": "Python Day 12",
      "provenance": []
    },
    "kernelspec": {
      "name": "python3",
      "display_name": "Python 3"
    },
    "language_info": {
      "name": "python"
    }
  },
  "cells": [
    {
      "cell_type": "markdown",
      "source": [
        "<h1> Dictionary\n",
        "\n",
        "> Dictionaries are used to store data values in key:value pairs.\n",
        "A dictionary is a collection which is ordered, changeable and do not allow duplicates."
      ],
      "metadata": {
        "id": "DUYNVZAu84PP"
      }
    },
    {
      "cell_type": "code",
      "source": [
        "#1 Initialization\n",
        "dct = {}"
      ],
      "metadata": {
        "id": "IwG_O7eX7AHR"
      },
      "execution_count": null,
      "outputs": []
    },
    {
      "cell_type": "code",
      "execution_count": null,
      "metadata": {
        "id": "4Zt6TbSOjbxC"
      },
      "outputs": [],
      "source": [
        "#2 Dictionary with data values\n",
        "dct = {'key1':'value1', 'key2':'value2', 'key3':'value3', 'key4':'value4'}"
      ]
    },
    {
      "cell_type": "code",
      "source": [
        "#3 dictionary usage\n",
        "ID = {\n",
        "    'first_name':'vinny',\n",
        "    'last_name':'vayu',\n",
        "    'age':25,\n",
        "    'country':'India',\n",
        "    'is_marred':False,\n",
        "    'skills':['Python','AI','ML','NLP']\n",
        "    }"
      ],
      "metadata": {
        "id": "Y0NK--wkjc7f"
      },
      "execution_count": null,
      "outputs": []
    },
    {
      "cell_type": "code",
      "source": [
        "#4\n",
        "ID"
      ],
      "metadata": {
        "colab": {
          "base_uri": "https://localhost:8080/"
        },
        "id": "2YmDEIBylPU9",
        "outputId": "0f016ea9-ae2c-411c-faf0-306a70d62cd7"
      },
      "execution_count": null,
      "outputs": [
        {
          "output_type": "execute_result",
          "data": {
            "text/plain": [
              "{'age': 25,\n",
              " 'country': 'India',\n",
              " 'first_name': 'vinny',\n",
              " 'is_marred': False,\n",
              " 'last_name': 'vayu',\n",
              " 'skills': ['Python', 'AI', 'ML', 'NLP']}"
            ]
          },
          "metadata": {},
          "execution_count": 19
        }
      ]
    },
    {
      "cell_type": "code",
      "source": [
        "#5 Check Length\n",
        "dct = {'key1':'value1', 'key2':'value2', 'key3':'value3', 'key4':'value4'}\n",
        "print(len(dct)) "
      ],
      "metadata": {
        "colab": {
          "base_uri": "https://localhost:8080/"
        },
        "id": "F3bwKuwuj5Pl",
        "outputId": "2be80c5b-5b29-42d7-b689-2cbe3c4d93d0"
      },
      "execution_count": null,
      "outputs": [
        {
          "output_type": "stream",
          "name": "stdout",
          "text": [
            "4\n"
          ]
        }
      ]
    },
    {
      "cell_type": "code",
      "source": [
        "#6 print the value\n",
        "dct = {'key1':'value1', 'key2':'value2', 'key3':'value3', 'key4':'value4'}\n",
        "print(dct['key1']) \n",
        "print(dct['key4']) "
      ],
      "metadata": {
        "colab": {
          "base_uri": "https://localhost:8080/"
        },
        "id": "ANXobxoXj_Xe",
        "outputId": "1e02f651-c4ef-412f-82c9-1c6f92531bc9"
      },
      "execution_count": null,
      "outputs": [
        {
          "output_type": "stream",
          "name": "stdout",
          "text": [
            "value1\n",
            "value4\n"
          ]
        }
      ]
    },
    {
      "cell_type": "code",
      "source": [
        "#7 Adding keys and value\n",
        "dct = {'key1':'value1', 'key2':'value2', 'key3':'value3', 'key4':'value4'}\n",
        "dct['key5'] = 'value5'"
      ],
      "metadata": {
        "id": "nyKtmFZnkDTi"
      },
      "execution_count": null,
      "outputs": []
    },
    {
      "cell_type": "code",
      "source": [
        "#8\n",
        "dct"
      ],
      "metadata": {
        "colab": {
          "base_uri": "https://localhost:8080/"
        },
        "id": "iN-7G3XnkM5B",
        "outputId": "0f63e7a0-2709-4629-cb08-adfbcc7299da"
      },
      "execution_count": null,
      "outputs": [
        {
          "output_type": "execute_result",
          "data": {
            "text/plain": [
              "{'key1': 'value1',\n",
              " 'key2': 'value2',\n",
              " 'key3': 'value3',\n",
              " 'key4': 'value4',\n",
              " 'key5': 'value5'}"
            ]
          },
          "metadata": {},
          "execution_count": 6
        }
      ]
    },
    {
      "cell_type": "code",
      "source": [
        "#9 Updating the keys\n",
        "dct = {'key1':'value1', 'key2':'value2', 'key3':'value3', 'key4':'value4'}\n",
        "dct['key1'] = 'value-one'"
      ],
      "metadata": {
        "id": "zAFOpFg2kOa0"
      },
      "execution_count": null,
      "outputs": []
    },
    {
      "cell_type": "code",
      "source": [
        "#10\n",
        "dct"
      ],
      "metadata": {
        "colab": {
          "base_uri": "https://localhost:8080/"
        },
        "id": "CXzw8lktkWPN",
        "outputId": "377b5338-3c26-495a-de89-fe8949eb9b48"
      },
      "execution_count": null,
      "outputs": [
        {
          "output_type": "execute_result",
          "data": {
            "text/plain": [
              "{'key1': 'value-one', 'key2': 'value2', 'key3': 'value3', 'key4': 'value4'}"
            ]
          },
          "metadata": {},
          "execution_count": 8
        }
      ]
    },
    {
      "cell_type": "code",
      "source": [
        "#11 Checking keys in dict\n",
        "dct = {'key1':'value1', 'key2':'value2', 'key3':'value3', 'key4':'value4'} "
      ],
      "metadata": {
        "colab": {
          "base_uri": "https://localhost:8080/"
        },
        "id": "ntoq7IUGkXeZ",
        "outputId": "08e896a8-7a75-4793-aacd-e39af85b8142"
      },
      "execution_count": null,
      "outputs": [
        {
          "output_type": "stream",
          "name": "stdout",
          "text": [
            "True\n",
            "False\n"
          ]
        }
      ]
    },
    {
      "cell_type": "code",
      "source": [
        "#12\n",
        "print('key2' in dct) "
      ],
      "metadata": {
        "id": "9UoXCF3f74Ds"
      },
      "execution_count": null,
      "outputs": []
    },
    {
      "cell_type": "code",
      "source": [
        "#13\n",
        "print('key5' in dct)"
      ],
      "metadata": {
        "id": "_MtlpLNk74Gp"
      },
      "execution_count": null,
      "outputs": []
    },
    {
      "cell_type": "code",
      "source": [
        "#14 removes key1 item\n",
        "dct = {'key1':'value1', 'key2':'value2', 'key3':'value3', 'key4':'value4'}"
      ],
      "metadata": {
        "id": "ajGo83CXkcuL"
      },
      "execution_count": null,
      "outputs": []
    },
    {
      "cell_type": "code",
      "source": [
        "#15\n",
        "dct.pop('key1')"
      ],
      "metadata": {
        "colab": {
          "base_uri": "https://localhost:8080/",
          "height": 35
        },
        "id": "ljwJo7Lo8KT7",
        "outputId": "ab8aca75-26c9-450e-99cb-7c61f40ecd27"
      },
      "execution_count": 2,
      "outputs": [
        {
          "output_type": "execute_result",
          "data": {
            "application/vnd.google.colaboratory.intrinsic+json": {
              "type": "string"
            },
            "text/plain": [
              "'value1'"
            ]
          },
          "metadata": {},
          "execution_count": 2
        }
      ]
    },
    {
      "cell_type": "code",
      "source": [
        "#16 Clear Dict\n",
        "dct = {'key1':'value1', 'key2':'value2', 'key3':'value3', 'key4':'value4'}"
      ],
      "metadata": {
        "colab": {
          "base_uri": "https://localhost:8080/"
        },
        "id": "ralWhqZakn_I",
        "outputId": "ec9a2352-e8ba-469c-e2e9-6e48b2c53e7c"
      },
      "execution_count": null,
      "outputs": [
        {
          "output_type": "stream",
          "name": "stdout",
          "text": [
            "None\n"
          ]
        }
      ]
    },
    {
      "cell_type": "code",
      "source": [
        "#17\n",
        "dct.clear()"
      ],
      "metadata": {
        "id": "RjVIEng08Uop"
      },
      "execution_count": 3,
      "outputs": []
    },
    {
      "cell_type": "code",
      "source": [
        "#18\n",
        "dct"
      ],
      "metadata": {
        "colab": {
          "base_uri": "https://localhost:8080/"
        },
        "id": "SjMNi-GP8Yit",
        "outputId": "aec3818c-6469-43bf-9d70-9e80ee0e6107"
      },
      "execution_count": 4,
      "outputs": [
        {
          "output_type": "execute_result",
          "data": {
            "text/plain": [
              "{}"
            ]
          },
          "metadata": {},
          "execution_count": 4
        }
      ]
    },
    {
      "cell_type": "code",
      "source": [
        "#19 Delete dict\n",
        "dct = {'key1':'value1', 'key2':'value2', 'key3':'value3', 'key4':'value4'}\n",
        "del dct"
      ],
      "metadata": {
        "id": "wMnyct_WkrPm"
      },
      "execution_count": null,
      "outputs": []
    },
    {
      "cell_type": "code",
      "source": [
        "#20 Print keys\n",
        "dct = {'key1':'value1', 'key2':'value2', 'key3':'value3', 'key4':'value4'}\n",
        "keys = dct.keys()\n",
        "print(keys) "
      ],
      "metadata": {
        "colab": {
          "base_uri": "https://localhost:8080/"
        },
        "id": "Bp7sQOR4kuVE",
        "outputId": "a5bf32ac-da48-46c2-b7d9-035871338a4c"
      },
      "execution_count": null,
      "outputs": [
        {
          "output_type": "stream",
          "name": "stdout",
          "text": [
            "dict_keys(['key1', 'key2', 'key3', 'key4'])\n"
          ]
        }
      ]
    },
    {
      "cell_type": "code",
      "source": [
        "#21 Print value\n",
        "dct = {'key1':'value1', 'key2':'value2', 'key3':'value3', 'key4':'value4'}\n",
        "values = dct.values()\n",
        "print(values)  "
      ],
      "metadata": {
        "colab": {
          "base_uri": "https://localhost:8080/"
        },
        "id": "U0_h8R3qk0NP",
        "outputId": "35274343-0e89-46f1-c2a0-085801ec35f5"
      },
      "execution_count": 7,
      "outputs": [
        {
          "output_type": "stream",
          "name": "stdout",
          "text": [
            "dict_values(['value1', 'value2', 'value3', 'value4'])\n"
          ]
        }
      ]
    }
  ]
}
