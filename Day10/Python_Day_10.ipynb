{
  "nbformat": 4,
  "nbformat_minor": 0,
  "metadata": {
    "colab": {
      "name": "Python Day 10",
      "provenance": []
    },
    "kernelspec": {
      "name": "python3",
      "display_name": "Python 3"
    },
    "language_info": {
      "name": "python"
    }
  },
  "cells": [
    {
      "cell_type": "markdown",
      "source": [
        "# 1: Sets\n",
        "\n",
        ">  Set is a collection of items.Set is a collection of unordered and un-indexed distinct elements. In Python set is used to store unique items, and it is possible to find the union, intersection, difference, symmetric difference, subset, super set and disjoint set among sets.\n",
        "\n"
      ],
      "metadata": {
        "id": "J-dOPFeJ5Y05"
      }
    },
    {
      "cell_type": "code",
      "source": [
        "#1 Initializing Set\n",
        "st={}"
      ],
      "metadata": {
        "id": "Hbb3r5hlEGzF"
      },
      "execution_count": 113,
      "outputs": []
    },
    {
      "cell_type": "code",
      "source": [
        "#2 Fill set with values\n",
        "st = {'car', 'bike', 'motor', 'train'}"
      ],
      "metadata": {
        "id": "8HhT8mekEG0o"
      },
      "execution_count": 114,
      "outputs": []
    },
    {
      "cell_type": "code",
      "source": [
        "#3 Check the length od the string\n",
        "st = {'car', 'bike', 'motor', 'train'}\n",
        "len(st)"
      ],
      "metadata": {
        "colab": {
          "base_uri": "https://localhost:8080/"
        },
        "id": "HLi6nchoEG4e",
        "outputId": "655afe2b-2b71-455a-e71f-55ee2d6f8918"
      },
      "execution_count": 115,
      "outputs": [
        {
          "output_type": "execute_result",
          "data": {
            "text/plain": [
              "4"
            ]
          },
          "metadata": {},
          "execution_count": 115
        }
      ]
    },
    {
      "cell_type": "code",
      "source": [
        "#4 Membership Operation\n",
        "st = {'car', 'bike', 'motor', 'train'}\n",
        "'motor' in st"
      ],
      "metadata": {
        "colab": {
          "base_uri": "https://localhost:8080/"
        },
        "id": "jM2JXHS2EG59",
        "outputId": "9f44b7cc-59bf-4080-af57-187fc666244a"
      },
      "execution_count": 116,
      "outputs": [
        {
          "output_type": "execute_result",
          "data": {
            "text/plain": [
              "True"
            ]
          },
          "metadata": {},
          "execution_count": 116
        }
      ]
    },
    {
      "cell_type": "code",
      "source": [
        "#5 Addition of item\n",
        "st = {'car', 'bike', 'motor', 'train'}\n",
        "st.add('item5')"
      ],
      "metadata": {
        "id": "ozcEAUDYEG91"
      },
      "execution_count": 117,
      "outputs": []
    },
    {
      "cell_type": "code",
      "source": [
        "#6\n",
        "st"
      ],
      "metadata": {
        "colab": {
          "base_uri": "https://localhost:8080/"
        },
        "id": "mZRlgnCpEG_Q",
        "outputId": "df4114ce-3fbd-4223-da81-d1566dc46925"
      },
      "execution_count": 118,
      "outputs": [
        {
          "output_type": "execute_result",
          "data": {
            "text/plain": [
              "{'bike', 'car', 'item5', 'motor', 'train'}"
            ]
          },
          "metadata": {},
          "execution_count": 118
        }
      ]
    },
    {
      "cell_type": "code",
      "source": [
        "#7 Update many item at once in set\n",
        "st = {'car', 'bike', 'motor', 'train'}\n",
        "st.update(['item5','item6','item7'])"
      ],
      "metadata": {
        "id": "_EmhwQGeEHDE"
      },
      "execution_count": 119,
      "outputs": []
    },
    {
      "cell_type": "code",
      "source": [
        "#8\n",
        "st"
      ],
      "metadata": {
        "colab": {
          "base_uri": "https://localhost:8080/"
        },
        "id": "_t6wnbzYEHEi",
        "outputId": "dbeda312-a1c4-4c2a-b4eb-da9ae1b6a99f"
      },
      "execution_count": 120,
      "outputs": [
        {
          "output_type": "execute_result",
          "data": {
            "text/plain": [
              "{'bike', 'car', 'item5', 'item6', 'item7', 'motor', 'train'}"
            ]
          },
          "metadata": {},
          "execution_count": 120
        }
      ]
    },
    {
      "cell_type": "code",
      "source": [
        "#9 Remove specefic item from set\n",
        "st = {'car', 'bike', 'motor', 'train'}\n",
        "st.remove('bike')"
      ],
      "metadata": {
        "id": "mEMA1ZnmEHIe"
      },
      "execution_count": 121,
      "outputs": []
    },
    {
      "cell_type": "code",
      "source": [
        "#10\n",
        "st"
      ],
      "metadata": {
        "colab": {
          "base_uri": "https://localhost:8080/"
        },
        "id": "L0KF-LEkEHJy",
        "outputId": "bcf808dc-2676-446d-e63a-68580d5ead0f"
      },
      "execution_count": 122,
      "outputs": [
        {
          "output_type": "execute_result",
          "data": {
            "text/plain": [
              "{'car', 'motor', 'train'}"
            ]
          },
          "metadata": {},
          "execution_count": 122
        }
      ]
    },
    {
      "cell_type": "code",
      "source": [
        "#11 Clear the set\n",
        "st1 = {'car', 'bike', 'motor', 'train'}\n",
        "st1.clear()"
      ],
      "metadata": {
        "id": "YLYkBozIEHN6"
      },
      "execution_count": 123,
      "outputs": []
    },
    {
      "cell_type": "code",
      "source": [
        "#12\n",
        "st"
      ],
      "metadata": {
        "colab": {
          "base_uri": "https://localhost:8080/"
        },
        "id": "DBex0ZF5EHPT",
        "outputId": "464dbd2c-a6c9-4767-d9fa-9f8c474b155a"
      },
      "execution_count": 124,
      "outputs": [
        {
          "output_type": "execute_result",
          "data": {
            "text/plain": [
              "{'car', 'motor', 'train'}"
            ]
          },
          "metadata": {},
          "execution_count": 124
        }
      ]
    },
    {
      "cell_type": "code",
      "source": [
        "#13\n",
        "st2 = {'car', 'bike', 'motor', 'train'}\n",
        "del st2"
      ],
      "metadata": {
        "id": "YF167plREHTl"
      },
      "execution_count": 125,
      "outputs": []
    },
    {
      "cell_type": "code",
      "source": [
        "#14 Convert List to Set\n",
        "lst = ['car', 'bike', 'motor', 'train', 'car']\n",
        "st = set(lst) "
      ],
      "metadata": {
        "id": "2ArNXUQIE786"
      },
      "execution_count": 126,
      "outputs": []
    },
    {
      "cell_type": "code",
      "source": [
        "#15\n",
        "st"
      ],
      "metadata": {
        "colab": {
          "base_uri": "https://localhost:8080/"
        },
        "id": "0r8FYQ8rFBf_",
        "outputId": "8c45fbfc-151d-4fba-af7e-edfe3e062409"
      },
      "execution_count": 127,
      "outputs": [
        {
          "output_type": "execute_result",
          "data": {
            "text/plain": [
              "{'bike', 'car', 'motor', 'train'}"
            ]
          },
          "metadata": {},
          "execution_count": 127
        }
      ]
    },
    {
      "cell_type": "code",
      "source": [
        "#16 Convert Tuple to Set\n",
        "lst = ('car', 'bike', 'motor', 'train', 'car')\n",
        "st = set(lst)"
      ],
      "metadata": {
        "id": "Yvk_bNv4FCN5"
      },
      "execution_count": 128,
      "outputs": []
    },
    {
      "cell_type": "code",
      "source": [
        "#17\n",
        "st"
      ],
      "metadata": {
        "colab": {
          "base_uri": "https://localhost:8080/"
        },
        "id": "2HejST12FGbT",
        "outputId": "425c4fd0-e8bc-4566-f750-aacd6ff9c0a1"
      },
      "execution_count": 129,
      "outputs": [
        {
          "output_type": "execute_result",
          "data": {
            "text/plain": [
              "{'bike', 'car', 'motor', 'train'}"
            ]
          },
          "metadata": {},
          "execution_count": 129
        }
      ]
    },
    {
      "cell_type": "code",
      "source": [
        "#18 Convert Set to List\n",
        "lst = {'car', 'bike', 'motor', 'train', 'car'}\n",
        "st = list(lst) "
      ],
      "metadata": {
        "id": "xXaxKkBTFHPO"
      },
      "execution_count": 130,
      "outputs": []
    },
    {
      "cell_type": "code",
      "source": [
        "#19\n",
        "st"
      ],
      "metadata": {
        "colab": {
          "base_uri": "https://localhost:8080/"
        },
        "id": "i_U7KH46FOog",
        "outputId": "1893aa43-c7ca-4cdd-9e33-3f1af2c905ba"
      },
      "execution_count": 131,
      "outputs": [
        {
          "output_type": "execute_result",
          "data": {
            "text/plain": [
              "['train', 'motor', 'bike', 'car']"
            ]
          },
          "metadata": {},
          "execution_count": 131
        }
      ]
    },
    {
      "cell_type": "code",
      "source": [
        "#20 Convert Set to Tuple\n",
        "lst = {'car', 'bike', 'motor', 'train', 'car'}\n",
        "st = tuple(lst)  # {'bike', 'train', 'car', 'motor'} - the order is random, because sets in general are unordered"
      ],
      "metadata": {
        "id": "ryKoZqJ5FPeF"
      },
      "execution_count": 132,
      "outputs": []
    },
    {
      "cell_type": "code",
      "source": [
        "#21\n",
        "st"
      ],
      "metadata": {
        "colab": {
          "base_uri": "https://localhost:8080/"
        },
        "id": "liaE8QQ4FTl1",
        "outputId": "6f4cd9f9-2713-4c85-f01b-258bd6ffddc0"
      },
      "execution_count": 133,
      "outputs": [
        {
          "output_type": "execute_result",
          "data": {
            "text/plain": [
              "('train', 'motor', 'bike', 'car')"
            ]
          },
          "metadata": {},
          "execution_count": 133
        }
      ]
    }
  ]
}