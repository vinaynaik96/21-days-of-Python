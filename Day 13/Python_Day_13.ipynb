{
  "nbformat": 4,
  "nbformat_minor": 0,
  "metadata": {
    "colab": {
      "name": "Python Day 13",
      "provenance": []
    },
    "kernelspec": {
      "name": "python3",
      "display_name": "Python 3"
    },
    "language_info": {
      "name": "python"
    }
  },
  "cells": [
    {
      "cell_type": "markdown",
      "source": [
        "<h1>Conditionals\n",
        "\n",
        "> By Default block of one or more statements will be executed if a certain expression is true but conditional statement helps to diffretiate problem and logic in if, else, elif statements.\n",
        "\n",
        "<h1> Condition\n",
        "\n",
        "> if is used to check if a condition is true and to execute the block code. Remember the indentation after the colon.\n",
        "\n",
        "```\n",
        "# if condition:\n",
        "    this part of code runs for truthy conditions\n",
        "```\n"
      ],
      "metadata": {
        "id": "DUYNVZAu84PP"
      }
    },
    {
      "cell_type": "code",
      "source": [
        "#1    if statement\n",
        "\n",
        "i = 10\n",
        "if i > 0:\n",
        "    print('i is a +ve number')"
      ],
      "metadata": {
        "colab": {
          "base_uri": "https://localhost:8080/"
        },
        "id": "sNzu_gn0enwv",
        "outputId": "b68a26f1-3bad-40a8-a948-8eb28c6e74ab"
      },
      "execution_count": 1,
      "outputs": [
        {
          "output_type": "stream",
          "name": "stdout",
          "text": [
            "i is a +ve number\n"
          ]
        }
      ]
    },
    {
      "cell_type": "code",
      "source": [
        "#2   if-else statement\n",
        "\n",
        "i = -10\n",
        "if i > 0:\n",
        "    print('i is a +ve number')\n",
        "else :\n",
        "    print('i is a -ve number')  "
      ],
      "metadata": {
        "colab": {
          "base_uri": "https://localhost:8080/"
        },
        "id": "XZxO0rZTen1E",
        "outputId": "be37093f-d3c4-4d3b-d0e0-cfb40f2925d1"
      },
      "execution_count": 2,
      "outputs": [
        {
          "output_type": "stream",
          "name": "stdout",
          "text": [
            "i is a -ve number\n"
          ]
        }
      ]
    },
    {
      "cell_type": "code",
      "source": [
        "#3   if-elif-else statement\n",
        "\n",
        "i = 0\n",
        "if i > 0:\n",
        "    print('i is a +ve number')\n",
        "elif i < 0:\n",
        "    print('i is a -ve number')\n",
        "else:\n",
        "    print('i is zero')    "
      ],
      "metadata": {
        "colab": {
          "base_uri": "https://localhost:8080/"
        },
        "id": "FwHJcNyQen2j",
        "outputId": "b3a7cc2d-acb0-494b-9950-390919004543"
      },
      "execution_count": 3,
      "outputs": [
        {
          "output_type": "stream",
          "name": "stdout",
          "text": [
            "i is zero\n"
          ]
        }
      ]
    },
    {
      "cell_type": "code",
      "source": [
        "#4 Nested Conditions\n",
        "\n",
        "#    Build a system which take input from user as a marks and evaluate whether student pass or fails which meets below conditiions:\n",
        "#    1) If students scores less 35 fail\n",
        "#    2) If student scores more than 35 pass\n",
        "#         *  if marks between 35 and 60 ----> second class\n",
        "#         *  if marks between 61 and 75 ----> first class\n",
        "#         *  if marks between 76 and 100 -----> FCD"
      ],
      "metadata": {
        "id": "vt9m2kB4en6-"
      },
      "execution_count": 4,
      "outputs": []
    },
    {
      "cell_type": "code",
      "source": [
        "#5 Accept Input\n",
        "x = int(input(\"Enter the marks : \"))\n",
        "\n",
        "#Conditional Statement\n",
        "if x >= 35:\n",
        "  print(\"pass\")\n",
        "else:\n",
        "  print(\"fail\") "
      ],
      "metadata": {
        "colab": {
          "base_uri": "https://localhost:8080/"
        },
        "id": "fsOiciWgen8W",
        "outputId": "cb37b1ca-5da4-473c-b399-120ba819d924"
      },
      "execution_count": 5,
      "outputs": [
        {
          "output_type": "stream",
          "name": "stdout",
          "text": [
            "Enter the marks : 67\n",
            "pass\n"
          ]
        }
      ]
    },
    {
      "cell_type": "code",
      "source": [
        "#6 Accept Input\n",
        "x = int(input(\"Enter the marks : \"))\n",
        "\n",
        "#Conditional Statement\n",
        "if x >= 35:\n",
        "  if x >= 35 and x < 60:\n",
        "       print(\"second class\")\n",
        "  elif x > 60 and x <= 75:\n",
        "       print(\"First Class\")    \n",
        "  else:\n",
        "       print(\"FCD\")      \n",
        "else:\n",
        "  print(\"fail\") "
      ],
      "metadata": {
        "colab": {
          "base_uri": "https://localhost:8080/"
        },
        "id": "8QyCQ9UVeoAs",
        "outputId": "4d20c97f-02ac-4c5b-bb66-99f509b186c0"
      },
      "execution_count": 6,
      "outputs": [
        {
          "output_type": "stream",
          "name": "stdout",
          "text": [
            "Enter the marks : 67\n",
            "First Class\n"
          ]
        }
      ]
    },
    {
      "cell_type": "code",
      "source": [
        "#7 whenever system takes input as \"python\" or \"space\" print \"Access Granted\" for other name print \"Access Denied\""
      ],
      "metadata": {
        "id": "ZgCQ5IZEeoCF"
      },
      "execution_count": 7,
      "outputs": []
    },
    {
      "cell_type": "code",
      "source": [
        "#8 Accept Input\n",
        "\n",
        "input = str(input(\"Enter the user password : \"))\n",
        "\n",
        "#Conditional Statement\n",
        "\n",
        "if input == 'python' or input =='space':\n",
        "  print(\"Access Granted\")\n",
        "else:\n",
        "  print(\"Access Denied\") "
      ],
      "metadata": {
        "colab": {
          "base_uri": "https://localhost:8080/"
        },
        "id": "UBpeFzbIkNRx",
        "outputId": "8890cf75-4c48-4380-9d71-959b36edd020"
      },
      "execution_count": 8,
      "outputs": [
        {
          "output_type": "stream",
          "name": "stdout",
          "text": [
            "Enter the user password : space\n",
            "Access Granted\n"
          ]
        }
      ]
    }
  ]
}
