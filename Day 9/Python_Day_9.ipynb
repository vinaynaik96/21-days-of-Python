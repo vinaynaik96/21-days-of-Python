{
  "nbformat": 4,
  "nbformat_minor": 0,
  "metadata": {
    "colab": {
      "name": "Python Day 9",
      "provenance": []
    },
    "kernelspec": {
      "name": "python3",
      "display_name": "Python 3"
    },
    "language_info": {
      "name": "python"
    }
  },
  "cells": [
    {
      "cell_type": "markdown",
      "source": [
        "# 1: Tuple\n",
        "\n",
        "> \n",
        "A tuple is a data types which is ordered and immutable. Tuples indicate with ().\n",
        "\n",
        "> Tuple Operation:\n",
        "\n",
        "1.   tuple(): to create an empty tuple\n",
        "2.   count(): to count the number of a specified item in a tuple\n",
        "3.   index(): to find the index of a specified item in a tuple\n",
        "4.   operator: to join two or more tuples and to create a new tuple\n",
        "\n"
      ],
      "metadata": {
        "id": "J-dOPFeJ5Y05"
      }
    },
    {
      "cell_type": "code",
      "source": [
        "#1 Initiating the empty tuple\n",
        "a =()"
      ],
      "metadata": {
        "id": "YbHgqOnk_0zz"
      },
      "execution_count": 1,
      "outputs": []
    },
    {
      "cell_type": "code",
      "source": [
        "#2 Fill the tuple with value\n",
        "a = ('car', 'bike','train')"
      ],
      "metadata": {
        "id": "-9W46uIkATPA"
      },
      "execution_count": 4,
      "outputs": []
    },
    {
      "cell_type": "code",
      "source": [
        "#3\n",
        "a"
      ],
      "metadata": {
        "colab": {
          "base_uri": "https://localhost:8080/"
        },
        "id": "XSn_M9RRATQe",
        "outputId": "4e14bb53-05db-427b-b3ec-d91588b4ec15"
      },
      "execution_count": 5,
      "outputs": [
        {
          "output_type": "execute_result",
          "data": {
            "text/plain": [
              "('car', 'bike', 'train')"
            ]
          },
          "metadata": {},
          "execution_count": 5
        }
      ]
    },
    {
      "cell_type": "code",
      "source": [
        "#4 Check the type of the data structure\n",
        "type(a)"
      ],
      "metadata": {
        "colab": {
          "base_uri": "https://localhost:8080/"
        },
        "id": "ARHpSAJPATUt",
        "outputId": "ae62fe90-7795-4e10-efb8-3c4eda28d46d"
      },
      "execution_count": 7,
      "outputs": [
        {
          "output_type": "execute_result",
          "data": {
            "text/plain": [
              "tuple"
            ]
          },
          "metadata": {},
          "execution_count": 7
        }
      ]
    },
    {
      "cell_type": "code",
      "source": [
        "#5 Check the length of the tuple\n",
        "len(a)"
      ],
      "metadata": {
        "colab": {
          "base_uri": "https://localhost:8080/"
        },
        "id": "Dlb_3mSUATXj",
        "outputId": "b4b515b3-e0fd-4369-c2fc-b9c50be91ac3"
      },
      "execution_count": 8,
      "outputs": [
        {
          "output_type": "execute_result",
          "data": {
            "text/plain": [
              "3"
            ]
          },
          "metadata": {},
          "execution_count": 8
        }
      ]
    },
    {
      "cell_type": "code",
      "source": [
        "#6 Accessing the item using index\n",
        "a[0]"
      ],
      "metadata": {
        "colab": {
          "base_uri": "https://localhost:8080/",
          "height": 35
        },
        "id": "Y29FWlCuA1zM",
        "outputId": "9a206c80-c6e0-4090-d6f6-4332c2c6fd37"
      },
      "execution_count": 9,
      "outputs": [
        {
          "output_type": "execute_result",
          "data": {
            "application/vnd.google.colaboratory.intrinsic+json": {
              "type": "string"
            },
            "text/plain": [
              "'car'"
            ]
          },
          "metadata": {},
          "execution_count": 9
        }
      ]
    },
    {
      "cell_type": "code",
      "source": [
        "#7\n",
        "a[1]"
      ],
      "metadata": {
        "colab": {
          "base_uri": "https://localhost:8080/",
          "height": 35
        },
        "id": "-2xaMpmWA-3h",
        "outputId": "64dae069-5342-4f9a-f32a-576795eb846d"
      },
      "execution_count": 10,
      "outputs": [
        {
          "output_type": "execute_result",
          "data": {
            "application/vnd.google.colaboratory.intrinsic+json": {
              "type": "string"
            },
            "text/plain": [
              "'bike'"
            ]
          },
          "metadata": {},
          "execution_count": 10
        }
      ]
    },
    {
      "cell_type": "code",
      "source": [
        "#8\n",
        "a[2]"
      ],
      "metadata": {
        "colab": {
          "base_uri": "https://localhost:8080/",
          "height": 35
        },
        "id": "c2dQLZ8EA_3d",
        "outputId": "34994c9a-ce48-4460-d084-04550dc67af2"
      },
      "execution_count": 11,
      "outputs": [
        {
          "output_type": "execute_result",
          "data": {
            "application/vnd.google.colaboratory.intrinsic+json": {
              "type": "string"
            },
            "text/plain": [
              "'train'"
            ]
          },
          "metadata": {},
          "execution_count": 11
        }
      ]
    },
    {
      "cell_type": "code",
      "source": [
        "#9 Negative Indexing\n",
        "a[-1]"
      ],
      "metadata": {
        "colab": {
          "base_uri": "https://localhost:8080/",
          "height": 35
        },
        "id": "eAwSC6t0BAca",
        "outputId": "fc7414ee-dcef-484a-ce9e-15c50a87df19"
      },
      "execution_count": 12,
      "outputs": [
        {
          "output_type": "execute_result",
          "data": {
            "application/vnd.google.colaboratory.intrinsic+json": {
              "type": "string"
            },
            "text/plain": [
              "'train'"
            ]
          },
          "metadata": {},
          "execution_count": 12
        }
      ]
    },
    {
      "cell_type": "code",
      "source": [
        "#10\n",
        "a[-2]"
      ],
      "metadata": {
        "colab": {
          "base_uri": "https://localhost:8080/",
          "height": 35
        },
        "id": "Hdoi4Eq-BInn",
        "outputId": "f2cd2c14-1bab-4db3-cc8c-f6fcabb6a4f5"
      },
      "execution_count": 13,
      "outputs": [
        {
          "output_type": "execute_result",
          "data": {
            "application/vnd.google.colaboratory.intrinsic+json": {
              "type": "string"
            },
            "text/plain": [
              "'bike'"
            ]
          },
          "metadata": {},
          "execution_count": 13
        }
      ]
    },
    {
      "cell_type": "code",
      "source": [
        "#11\n",
        "a[-2]"
      ],
      "metadata": {
        "colab": {
          "base_uri": "https://localhost:8080/",
          "height": 35
        },
        "id": "B6M0jomqBJcY",
        "outputId": "8f6427d4-e68f-4d0f-ffee-86639acc31c5"
      },
      "execution_count": 14,
      "outputs": [
        {
          "output_type": "execute_result",
          "data": {
            "application/vnd.google.colaboratory.intrinsic+json": {
              "type": "string"
            },
            "text/plain": [
              "'bike'"
            ]
          },
          "metadata": {},
          "execution_count": 14
        }
      ]
    },
    {
      "cell_type": "code",
      "source": [
        "#12 tuple slicing\n",
        "a[1:3]"
      ],
      "metadata": {
        "colab": {
          "base_uri": "https://localhost:8080/"
        },
        "id": "Aqd4oxoPBKP2",
        "outputId": "880aba73-760d-4c82-dc78-77c50ccfc92f"
      },
      "execution_count": 15,
      "outputs": [
        {
          "output_type": "execute_result",
          "data": {
            "text/plain": [
              "('bike', 'train')"
            ]
          },
          "metadata": {},
          "execution_count": 15
        }
      ]
    },
    {
      "cell_type": "code",
      "source": [
        "#13 tuple negative slicing \n",
        "a[::-1]"
      ],
      "metadata": {
        "colab": {
          "base_uri": "https://localhost:8080/"
        },
        "id": "c6o90Ve5BZIQ",
        "outputId": "6cf8913e-dff1-4382-839d-927677b78459"
      },
      "execution_count": 17,
      "outputs": [
        {
          "output_type": "execute_result",
          "data": {
            "text/plain": [
              "('train', 'bike', 'car')"
            ]
          },
          "metadata": {},
          "execution_count": 17
        }
      ]
    },
    {
      "cell_type": "code",
      "source": [
        "#14 membership operation\n",
        "'bike' in a"
      ],
      "metadata": {
        "colab": {
          "base_uri": "https://localhost:8080/"
        },
        "id": "MYiaq4O3Bab8",
        "outputId": "5a1a2491-fd29-441f-ce2d-6056489e3c00"
      },
      "execution_count": 18,
      "outputs": [
        {
          "output_type": "execute_result",
          "data": {
            "text/plain": [
              "True"
            ]
          },
          "metadata": {},
          "execution_count": 18
        }
      ]
    },
    {
      "cell_type": "code",
      "source": [
        "#15\n",
        "'plane' in a"
      ],
      "metadata": {
        "colab": {
          "base_uri": "https://localhost:8080/"
        },
        "id": "pS1lCdbuBqW0",
        "outputId": "e0b7228e-dfb9-4fb0-9ce0-9e4a4a8a5a9c"
      },
      "execution_count": 19,
      "outputs": [
        {
          "output_type": "execute_result",
          "data": {
            "text/plain": [
              "False"
            ]
          },
          "metadata": {},
          "execution_count": 19
        }
      ]
    },
    {
      "cell_type": "code",
      "source": [
        "#16 Changing tuple to list\n",
        "b=(\"hi\",\"hello\",\"how\",\"are\",\"you\")\n",
        "lst=list(b)"
      ],
      "metadata": {
        "id": "4Sy9lNuRBvJX"
      },
      "execution_count": 20,
      "outputs": []
    },
    {
      "cell_type": "code",
      "source": [
        "#17\n",
        "list"
      ],
      "metadata": {
        "colab": {
          "base_uri": "https://localhost:8080/"
        },
        "id": "JRXD8oMBCFqo",
        "outputId": "b21e6f10-1f61-4d05-e9b9-2ea92039e4db"
      },
      "execution_count": 21,
      "outputs": [
        {
          "output_type": "execute_result",
          "data": {
            "text/plain": [
              "list"
            ]
          },
          "metadata": {},
          "execution_count": 21
        }
      ]
    },
    {
      "cell_type": "code",
      "source": [
        "#18 List to Tuple conversion\n",
        "c=[\"hi\",\"hello\",\"how\",\"are\",\"you\"]\n",
        "tpl=tuple(c)"
      ],
      "metadata": {
        "id": "MC0XJFlcCHRN"
      },
      "execution_count": 24,
      "outputs": []
    },
    {
      "cell_type": "code",
      "source": [
        "#19\n",
        "tpl"
      ],
      "metadata": {
        "colab": {
          "base_uri": "https://localhost:8080/"
        },
        "id": "3A-qR8zVCONJ",
        "outputId": "7ba2518f-659b-4ca6-b794-8002349e006a"
      },
      "execution_count": 25,
      "outputs": [
        {
          "output_type": "execute_result",
          "data": {
            "text/plain": [
              "('hi', 'hello', 'how', 'are', 'you')"
            ]
          },
          "metadata": {},
          "execution_count": 25
        }
      ]
    },
    {
      "cell_type": "code",
      "source": [
        "#20 Add two tuple\n",
        "tpl1 = ('item1', 'item2', 'item3')\n",
        "tpl2 = ('item4', 'item5','item6')\n",
        "tpl3 = tpl1 + tpl2"
      ],
      "metadata": {
        "id": "VCtNxxCUCRkF"
      },
      "execution_count": 31,
      "outputs": []
    },
    {
      "cell_type": "code",
      "source": [
        "#21\n",
        "tpl3"
      ],
      "metadata": {
        "colab": {
          "base_uri": "https://localhost:8080/"
        },
        "id": "mrtRVUmfCkzC",
        "outputId": "4b946fc7-f6c6-4d75-e029-82d1a8b06087"
      },
      "execution_count": 32,
      "outputs": [
        {
          "output_type": "execute_result",
          "data": {
            "text/plain": [
              "('item1', 'item2', 'item3', 'item4', 'item5', 'item6')"
            ]
          },
          "metadata": {},
          "execution_count": 32
        }
      ]
    },
    {
      "cell_type": "code",
      "source": [
        "#21 Delete Tuple\n",
        "tpl4=(\"Hi\",\"Good\",\"Morning\")\n",
        "del tpl4"
      ],
      "metadata": {
        "id": "9zR74WNcCm4m"
      },
      "execution_count": 36,
      "outputs": []
    }
  ]
}